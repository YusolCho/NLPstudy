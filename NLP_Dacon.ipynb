{
  "nbformat": 4,
  "nbformat_minor": 0,
  "metadata": {
    "colab": {
      "provenance": [],
      "authorship_tag": "ABX9TyPoTdpPARZ5z/9oOfsQ74b7",
      "include_colab_link": true
    },
    "kernelspec": {
      "name": "python3",
      "display_name": "Python 3"
    },
    "language_info": {
      "name": "python"
    },
    "accelerator": "GPU",
    "gpuClass": "standard"
  },
  "cells": [
    {
      "cell_type": "markdown",
      "metadata": {
        "id": "view-in-github",
        "colab_type": "text"
      },
      "source": [
        "<a href=\"https://colab.research.google.com/github/YusolCho/NLPstudy/blob/main/NLP_Dacon.ipynb\" target=\"_parent\"><img src=\"https://colab.research.google.com/assets/colab-badge.svg\" alt=\"Open In Colab\"/></a>"
      ]
    },
    {
      "cell_type": "markdown",
      "source": [
        "# **패키지, 데이터 로드**"
      ],
      "metadata": {
        "id": "VEdCDGZZ5U3I"
      }
    },
    {
      "cell_type": "code",
      "source": [
        "#패키지 임포트 \n",
        "\n",
        "# base\n",
        "import pandas as pd\n",
        "import numpy as np\n",
        "import matplotlib.pyplot as plt\n",
        "import seaborn as sns\n",
        "\n",
        "import warnings\n",
        "warnings.filterwarnings('ignore')\n",
        "\n",
        "# regex\n",
        "import re\n",
        "\n",
        "# stopwords\n",
        "import nltk\n",
        "from nltk.corpus import stopwords\n",
        "nltk.download('stopwords')\n",
        "nltk.download('punkt')\n",
        "nltk.download('wordnet')\n",
        "nltk.download('omw-1.4')\n",
        "nltk.download('averaged_perceptron_tagger')\n",
        "\n",
        "# tokenizer\n",
        "from nltk.tokenize import word_tokenize\n",
        "from nltk.tokenize import WordPunctTokenizer\n",
        "from nltk.tokenize import TreebankWordTokenizer\n",
        "from keras.preprocessing.text import Tokenizer\n",
        "from tensorflow.keras.preprocessing.text import text_to_word_sequence\n",
        "\n",
        "# lemmatization\n",
        "from nltk.stem import WordNetLemmatizer\n",
        "from nltk.corpus import wordnet\n",
        "\n",
        "# Vectorizer\n",
        "import gensim\n",
        "import urllib.request #*********\n",
        "from gensim.models import Word2Vec\n",
        "from gensim.models import KeyedVectors\n",
        "from sklearn.feature_extraction.text import CountVectorizer, TfidfVectorizer\n",
        "\n",
        "#Padding \n",
        "from tensorflow.keras.preprocessing.sequence import pad_sequences\n",
        "\n",
        "# modeling\n",
        "from sklearn.linear_model import LogisticRegression\n",
        "from sklearn.model_selection import train_test_split, cross_val_score\n",
        "\n",
        "#DL\n",
        "from tensorflow.keras.models import Sequential\n",
        "from tensorflow.keras.layers import Dense, Embedding, Flatten, Input\n",
        "\n",
        "#scoring\n",
        "from sklearn.metrics import confusion_matrix, accuracy_score, precision_score, recall_score, f1_score, accuracy_score"
      ],
      "metadata": {
        "colab": {
          "base_uri": "https://localhost:8080/"
        },
        "id": "u7kFoIRoxVET",
        "outputId": "a7ecf467-5692-45af-f782-179e313d9292"
      },
      "execution_count": 1,
      "outputs": [
        {
          "output_type": "stream",
          "name": "stderr",
          "text": [
            "[nltk_data] Downloading package stopwords to /root/nltk_data...\n",
            "[nltk_data]   Unzipping corpora/stopwords.zip.\n",
            "[nltk_data] Downloading package punkt to /root/nltk_data...\n",
            "[nltk_data]   Unzipping tokenizers/punkt.zip.\n",
            "[nltk_data] Downloading package wordnet to /root/nltk_data...\n",
            "[nltk_data] Downloading package omw-1.4 to /root/nltk_data...\n",
            "[nltk_data] Downloading package averaged_perceptron_tagger to\n",
            "[nltk_data]     /root/nltk_data...\n",
            "[nltk_data]   Unzipping taggers/averaged_perceptron_tagger.zip.\n"
          ]
        }
      ]
    },
    {
      "cell_type": "code",
      "execution_count": 2,
      "metadata": {
        "colab": {
          "base_uri": "https://localhost:8080/"
        },
        "id": "ob-iYMLpxDrH",
        "outputId": "fc51e06d-e660-4c80-b4e1-73457afd40c1"
      },
      "outputs": [
        {
          "output_type": "stream",
          "name": "stdout",
          "text": [
            "Mounted at /content/drive\n"
          ]
        }
      ],
      "source": [
        "#파일 불러오기 \n",
        "from google.colab import drive\n",
        "drive.mount('/content/drive')\n",
        "filename = '/content/drive/MyDrive/train.csv'\n",
        "data = pd.read_csv(filename,delimiter=',',index_col=0)# 첫번째 행을 index행으로\n",
        "\n",
        "filename2 = '/content/drive/MyDrive/sample_submission.csv'\n",
        "submission = pd.read_csv(filename2,delimiter=',',index_col=0)# 첫번째 행을 index행으로\n"
      ]
    },
    {
      "cell_type": "markdown",
      "source": [
        "# **전처리(Preprocessing)**"
      ],
      "metadata": {
        "id": "Sj9ORBDL5do-"
      }
    },
    {
      "cell_type": "markdown",
      "source": [
        "## **노이즈 제거** "
      ],
      "metadata": {
        "id": "RVdl2t-45ipN"
      }
    },
    {
      "cell_type": "code",
      "source": [
        "#판다스 보는 옵션 설정 : col 최대너비 설정 \n",
        "pd.set_option('max_colwidth', 220)\n",
        "data.head()\n",
        "\n",
        "# 복사본 생성 \n",
        "data2 = data.copy()\n",
        "\n",
        "#노이즈 제거\n",
        "\n",
        "# 함수 지정 \n",
        "def clean_text(texts): \n",
        "  corpus = [] \n",
        "  for i in range(0, len(texts)): \n",
        "\n",
        "    review = re.sub(r'[@%\\\\*=()/~#&\\+á?\\xc3\\xa1\\-\\|\\.\\:\\;\\!\\-\\,\\_\\~\\$\\'\\\"\\n\\]\\[\\>]', '',texts[i]) #@%*=()/+ 와 같은 문장부호 제거\n",
        "    review = re.sub(r'\\d+','', review)#숫자 제거\n",
        "    review = review.lower() #소문자 변환\n",
        "    review = re.sub(r'\\s+', ' ', review) #extra space 제거\n",
        "    review = re.sub(r'<[^>]+>','',review) #Html tags 제거\n",
        "    review = re.sub(r'\\s+', ' ', review) #spaces 제거\n",
        "    review = re.sub(r\"^\\s+\", '', review) #space from start 제거\n",
        "    review = re.sub(r'\\s+$', '', review) #space from the end 제거\n",
        "    review = re.sub(r'_', ' ', review) #space from the end 제거\n",
        "    review = re.sub(r'\"+', ' ', review) #spaces 제거\n",
        "    review = re.sub('[^a-zA-Z]', ' ', review)    \n",
        "    \n",
        "    corpus.append(review) \n",
        "  \n",
        "  return corpus\n",
        "\n",
        "# 실행\n",
        "data2_resub = clean_text(data2['text'])\n",
        "data2['text'] = data2_resub\n",
        "data2.head(20)"
      ],
      "metadata": {
        "colab": {
          "base_uri": "https://localhost:8080/",
          "height": 926
        },
        "id": "gvhnT9iVgiLW",
        "outputId": "e4bb13b3-6425-4e3a-f13d-99b3682f8e84"
      },
      "execution_count": 3,
      "outputs": [
        {
          "output_type": "execute_result",
          "data": {
            "text/plain": [
              "                                                                                                                                                                                                                              text  \\\n",
              "index                                                                                                                                                                                                                                \n",
              "0      he was almost choking there was so much so much he wanted to say but strange exclamations were all that came from his lips the pole gazed fixedly at him at the bundle of notes in his hand looked at odin and was in ev...   \n",
              "1                                                                                                                                                                                              your sister asked for it i suppose    \n",
              "2      she was engaged one day as she walked in perusing jane s last letter and dwelling on some passages which proved that jane had not written in spirits when instead of being again surprised by mr odin she saw on looking...   \n",
              "3      the captain was in the porch keeping himself carefully out of the way of a treacherous shot should any be intended he turned and spoke to us  doctors watch on the lookout dr odin take the north side if you please jim...   \n",
              "4           have mercy gentlemen  odin flung up his hands  don t write that anyway have some shame here i ve torn my heart asunder before you and you seize the opportunity and are fingering the wounds in both halves oh my god    \n",
              "5                                                                                                                                                         it was well fought he said and by my sooth they will not charge us twice   \n",
              "6                                                                                                 not to pay him was impossible considering his character but i will talk about that fellow about that plague of mine another time   \n",
              "7       a proper figure of a man atarms  said the little knight  why man you are no chicken yet i warrant him the stronger man see to that great stone from the coping which hath fodin upon the bridge four of my lazy varlets...   \n",
              "8                                                                                                                                                                                      you were not here last sunday night he said   \n",
              "9                                                             you must not ask me that  i cried  hell may have noble flames i have known him a score of years and always hated and always admired and always slavishly feared him    \n",
              "10                                                                                                                        this was an unexpected piece of luck my data were coming more quickly than i could have reasonably hoped   \n",
              "11                                                                                                                                                                one rogue the fewer i dare say  observed the master of the house   \n",
              "12     i had scant luggage to take with me to london for little of the little i possessed was adapted to my new station but i began packing that same afternoon and wildly packed up things that i knew i should want next morn...   \n",
              "13     it suited odin best to think odin the one preferred on the very account of odin hayter whose pretensions she wished to see put an end to she looked down very decidedly upon the hayters and thought it would be quite a...   \n",
              "14                                                                                                                                                                                                     have you no friends  said i   \n",
              "15     still the ticking in the hall still the breathing deeper and fuller now from the medium still the occasional flash more welcome than ever of the passing lights of the hansoms what a gap we were bridging the halfraise...   \n",
              "16                                                     the bustle in the vestibule as she passed along an inner lobby assured her that they were already in the house she rushed to the drawingroomshe entered itand saw only odin   \n",
              "17                                                                                                                                                                          indeed she didn t by god i swear she didn t come back    \n",
              "18     before he could recover i was safe out of the corner where he had me trapped with all the deck to dodge about just forward of the mainmast i stopped drew a pistol from my odin took a cool aim though he had already tu...   \n",
              "19      why the fact is  returned odin  mr odin had so completely hemmed him in and was always ready with so many new points if an old one failed that he could not escape from us a most remarkable circumstance is that i rea...   \n",
              "\n",
              "       author  \n",
              "index          \n",
              "0           3  \n",
              "1           2  \n",
              "2           1  \n",
              "3           4  \n",
              "4           3  \n",
              "5           4  \n",
              "6           3  \n",
              "7           2  \n",
              "8           0  \n",
              "9           4  \n",
              "10          2  \n",
              "11          4  \n",
              "12          0  \n",
              "13          1  \n",
              "14          4  \n",
              "15          2  \n",
              "16          1  \n",
              "17          3  \n",
              "18          4  \n",
              "19          0  "
            ],
            "text/html": [
              "\n",
              "  <div id=\"df-32c59e91-52b2-4286-b30a-86aba6ce0704\">\n",
              "    <div class=\"colab-df-container\">\n",
              "      <div>\n",
              "<style scoped>\n",
              "    .dataframe tbody tr th:only-of-type {\n",
              "        vertical-align: middle;\n",
              "    }\n",
              "\n",
              "    .dataframe tbody tr th {\n",
              "        vertical-align: top;\n",
              "    }\n",
              "\n",
              "    .dataframe thead th {\n",
              "        text-align: right;\n",
              "    }\n",
              "</style>\n",
              "<table border=\"1\" class=\"dataframe\">\n",
              "  <thead>\n",
              "    <tr style=\"text-align: right;\">\n",
              "      <th></th>\n",
              "      <th>text</th>\n",
              "      <th>author</th>\n",
              "    </tr>\n",
              "    <tr>\n",
              "      <th>index</th>\n",
              "      <th></th>\n",
              "      <th></th>\n",
              "    </tr>\n",
              "  </thead>\n",
              "  <tbody>\n",
              "    <tr>\n",
              "      <th>0</th>\n",
              "      <td>he was almost choking there was so much so much he wanted to say but strange exclamations were all that came from his lips the pole gazed fixedly at him at the bundle of notes in his hand looked at odin and was in ev...</td>\n",
              "      <td>3</td>\n",
              "    </tr>\n",
              "    <tr>\n",
              "      <th>1</th>\n",
              "      <td>your sister asked for it i suppose</td>\n",
              "      <td>2</td>\n",
              "    </tr>\n",
              "    <tr>\n",
              "      <th>2</th>\n",
              "      <td>she was engaged one day as she walked in perusing jane s last letter and dwelling on some passages which proved that jane had not written in spirits when instead of being again surprised by mr odin she saw on looking...</td>\n",
              "      <td>1</td>\n",
              "    </tr>\n",
              "    <tr>\n",
              "      <th>3</th>\n",
              "      <td>the captain was in the porch keeping himself carefully out of the way of a treacherous shot should any be intended he turned and spoke to us  doctors watch on the lookout dr odin take the north side if you please jim...</td>\n",
              "      <td>4</td>\n",
              "    </tr>\n",
              "    <tr>\n",
              "      <th>4</th>\n",
              "      <td>have mercy gentlemen  odin flung up his hands  don t write that anyway have some shame here i ve torn my heart asunder before you and you seize the opportunity and are fingering the wounds in both halves oh my god</td>\n",
              "      <td>3</td>\n",
              "    </tr>\n",
              "    <tr>\n",
              "      <th>5</th>\n",
              "      <td>it was well fought he said and by my sooth they will not charge us twice</td>\n",
              "      <td>4</td>\n",
              "    </tr>\n",
              "    <tr>\n",
              "      <th>6</th>\n",
              "      <td>not to pay him was impossible considering his character but i will talk about that fellow about that plague of mine another time</td>\n",
              "      <td>3</td>\n",
              "    </tr>\n",
              "    <tr>\n",
              "      <th>7</th>\n",
              "      <td>a proper figure of a man atarms  said the little knight  why man you are no chicken yet i warrant him the stronger man see to that great stone from the coping which hath fodin upon the bridge four of my lazy varlets...</td>\n",
              "      <td>2</td>\n",
              "    </tr>\n",
              "    <tr>\n",
              "      <th>8</th>\n",
              "      <td>you were not here last sunday night he said</td>\n",
              "      <td>0</td>\n",
              "    </tr>\n",
              "    <tr>\n",
              "      <th>9</th>\n",
              "      <td>you must not ask me that  i cried  hell may have noble flames i have known him a score of years and always hated and always admired and always slavishly feared him</td>\n",
              "      <td>4</td>\n",
              "    </tr>\n",
              "    <tr>\n",
              "      <th>10</th>\n",
              "      <td>this was an unexpected piece of luck my data were coming more quickly than i could have reasonably hoped</td>\n",
              "      <td>2</td>\n",
              "    </tr>\n",
              "    <tr>\n",
              "      <th>11</th>\n",
              "      <td>one rogue the fewer i dare say  observed the master of the house</td>\n",
              "      <td>4</td>\n",
              "    </tr>\n",
              "    <tr>\n",
              "      <th>12</th>\n",
              "      <td>i had scant luggage to take with me to london for little of the little i possessed was adapted to my new station but i began packing that same afternoon and wildly packed up things that i knew i should want next morn...</td>\n",
              "      <td>0</td>\n",
              "    </tr>\n",
              "    <tr>\n",
              "      <th>13</th>\n",
              "      <td>it suited odin best to think odin the one preferred on the very account of odin hayter whose pretensions she wished to see put an end to she looked down very decidedly upon the hayters and thought it would be quite a...</td>\n",
              "      <td>1</td>\n",
              "    </tr>\n",
              "    <tr>\n",
              "      <th>14</th>\n",
              "      <td>have you no friends  said i</td>\n",
              "      <td>4</td>\n",
              "    </tr>\n",
              "    <tr>\n",
              "      <th>15</th>\n",
              "      <td>still the ticking in the hall still the breathing deeper and fuller now from the medium still the occasional flash more welcome than ever of the passing lights of the hansoms what a gap we were bridging the halfraise...</td>\n",
              "      <td>2</td>\n",
              "    </tr>\n",
              "    <tr>\n",
              "      <th>16</th>\n",
              "      <td>the bustle in the vestibule as she passed along an inner lobby assured her that they were already in the house she rushed to the drawingroomshe entered itand saw only odin</td>\n",
              "      <td>1</td>\n",
              "    </tr>\n",
              "    <tr>\n",
              "      <th>17</th>\n",
              "      <td>indeed she didn t by god i swear she didn t come back</td>\n",
              "      <td>3</td>\n",
              "    </tr>\n",
              "    <tr>\n",
              "      <th>18</th>\n",
              "      <td>before he could recover i was safe out of the corner where he had me trapped with all the deck to dodge about just forward of the mainmast i stopped drew a pistol from my odin took a cool aim though he had already tu...</td>\n",
              "      <td>4</td>\n",
              "    </tr>\n",
              "    <tr>\n",
              "      <th>19</th>\n",
              "      <td>why the fact is  returned odin  mr odin had so completely hemmed him in and was always ready with so many new points if an old one failed that he could not escape from us a most remarkable circumstance is that i rea...</td>\n",
              "      <td>0</td>\n",
              "    </tr>\n",
              "  </tbody>\n",
              "</table>\n",
              "</div>\n",
              "      <button class=\"colab-df-convert\" onclick=\"convertToInteractive('df-32c59e91-52b2-4286-b30a-86aba6ce0704')\"\n",
              "              title=\"Convert this dataframe to an interactive table.\"\n",
              "              style=\"display:none;\">\n",
              "        \n",
              "  <svg xmlns=\"http://www.w3.org/2000/svg\" height=\"24px\"viewBox=\"0 0 24 24\"\n",
              "       width=\"24px\">\n",
              "    <path d=\"M0 0h24v24H0V0z\" fill=\"none\"/>\n",
              "    <path d=\"M18.56 5.44l.94 2.06.94-2.06 2.06-.94-2.06-.94-.94-2.06-.94 2.06-2.06.94zm-11 1L8.5 8.5l.94-2.06 2.06-.94-2.06-.94L8.5 2.5l-.94 2.06-2.06.94zm10 10l.94 2.06.94-2.06 2.06-.94-2.06-.94-.94-2.06-.94 2.06-2.06.94z\"/><path d=\"M17.41 7.96l-1.37-1.37c-.4-.4-.92-.59-1.43-.59-.52 0-1.04.2-1.43.59L10.3 9.45l-7.72 7.72c-.78.78-.78 2.05 0 2.83L4 21.41c.39.39.9.59 1.41.59.51 0 1.02-.2 1.41-.59l7.78-7.78 2.81-2.81c.8-.78.8-2.07 0-2.86zM5.41 20L4 18.59l7.72-7.72 1.47 1.35L5.41 20z\"/>\n",
              "  </svg>\n",
              "      </button>\n",
              "      \n",
              "  <style>\n",
              "    .colab-df-container {\n",
              "      display:flex;\n",
              "      flex-wrap:wrap;\n",
              "      gap: 12px;\n",
              "    }\n",
              "\n",
              "    .colab-df-convert {\n",
              "      background-color: #E8F0FE;\n",
              "      border: none;\n",
              "      border-radius: 50%;\n",
              "      cursor: pointer;\n",
              "      display: none;\n",
              "      fill: #1967D2;\n",
              "      height: 32px;\n",
              "      padding: 0 0 0 0;\n",
              "      width: 32px;\n",
              "    }\n",
              "\n",
              "    .colab-df-convert:hover {\n",
              "      background-color: #E2EBFA;\n",
              "      box-shadow: 0px 1px 2px rgba(60, 64, 67, 0.3), 0px 1px 3px 1px rgba(60, 64, 67, 0.15);\n",
              "      fill: #174EA6;\n",
              "    }\n",
              "\n",
              "    [theme=dark] .colab-df-convert {\n",
              "      background-color: #3B4455;\n",
              "      fill: #D2E3FC;\n",
              "    }\n",
              "\n",
              "    [theme=dark] .colab-df-convert:hover {\n",
              "      background-color: #434B5C;\n",
              "      box-shadow: 0px 1px 3px 1px rgba(0, 0, 0, 0.15);\n",
              "      filter: drop-shadow(0px 1px 2px rgba(0, 0, 0, 0.3));\n",
              "      fill: #FFFFFF;\n",
              "    }\n",
              "  </style>\n",
              "\n",
              "      <script>\n",
              "        const buttonEl =\n",
              "          document.querySelector('#df-32c59e91-52b2-4286-b30a-86aba6ce0704 button.colab-df-convert');\n",
              "        buttonEl.style.display =\n",
              "          google.colab.kernel.accessAllowed ? 'block' : 'none';\n",
              "\n",
              "        async function convertToInteractive(key) {\n",
              "          const element = document.querySelector('#df-32c59e91-52b2-4286-b30a-86aba6ce0704');\n",
              "          const dataTable =\n",
              "            await google.colab.kernel.invokeFunction('convertToInteractive',\n",
              "                                                     [key], {});\n",
              "          if (!dataTable) return;\n",
              "\n",
              "          const docLinkHtml = 'Like what you see? Visit the ' +\n",
              "            '<a target=\"_blank\" href=https://colab.research.google.com/notebooks/data_table.ipynb>data table notebook</a>'\n",
              "            + ' to learn more about interactive tables.';\n",
              "          element.innerHTML = '';\n",
              "          dataTable['output_type'] = 'display_data';\n",
              "          await google.colab.output.renderOutput(dataTable, element);\n",
              "          const docLink = document.createElement('div');\n",
              "          docLink.innerHTML = docLinkHtml;\n",
              "          element.appendChild(docLink);\n",
              "        }\n",
              "      </script>\n",
              "    </div>\n",
              "  </div>\n",
              "  "
            ]
          },
          "metadata": {},
          "execution_count": 3
        }
      ]
    },
    {
      "cell_type": "markdown",
      "source": [
        "## **토큰화, 정규화, 불용어제거** "
      ],
      "metadata": {
        "id": "vsBBw_ES5oXE"
      }
    },
    {
      "cell_type": "code",
      "source": [
        "# 토큰화 : keras의 text_to_word_sequence를 이용해서 텍스트를 단어(혹은 토큰)의 시퀀스로 변환\n",
        "data2['text'] = data2.apply(lambda row: text_to_word_sequence(row['text']), axis=1)\n",
        "\n",
        "# 표제어 추출\n",
        "data2['text'] = data2['text'].apply(lambda x: [WordNetLemmatizer().lemmatize(word, pos='v') for word in x])\n",
        "\n",
        "# Lemmatizer는 어근 형태로 돌리려고 하는 각 단어에 대한 언어적 부분을 알고 있거나 추측할 필요가 있다. \n",
        "# 이 경우 WordNetLemmatizer는 명사가 기본으로 설정되어 있지만 변경이 가능하다. \n",
        "# \"pos\" 파라미터를 지정하면 기본 설정 값을 덮어쓸 수 있다. 동사는 \"v\"로 하자.\n",
        "\n",
        "# 불용어 제거 \n",
        "\n",
        "# 불용어 리스트 생성 - NLTK english 불용어 사전 \n",
        "stopwords_list = set(stopwords.words('english'))\n",
        "\n",
        "# 불용어 리스트에 해당되는 단어 제거, 짧은 단어 제거 \n",
        "data2['text'] = data2['text'].apply(lambda x: [word for word in x if word not in (stopwords_list)]) #불용어 제거\n",
        "data2['text'] = data2['text'].apply(lambda x: [word for word in x if len(word) > 2]) #길이가 2이하인 단어 제거 \n",
        "\n"
      ],
      "metadata": {
        "id": "eKp4MokTgrzc"
      },
      "execution_count": 4,
      "outputs": []
    },
    {
      "cell_type": "code",
      "source": [
        "# 토큰화 완료된 문장을 판다스 시리즈에 저장\n",
        "tokenized_docu = data2['text']\n",
        "tokenized_docu   # 데이터프레임의 각 행에 저장된 리스트를 원소로 하는 판다스 시리즈 생성 \n",
        "\n",
        "# 역토큰화\n",
        "detokenized_doc = []  # 빈 리스트 생성\n",
        "for i in range(len(data2)):     # i 범위를 데이터프레임의 행 개수로 설정   \n",
        "    t = ' '.join(tokenized_docu[i])    # join함수로 문자열 합치기. 데이터 프레임의 각 행에 저장된 리스트는 문자열을 가지고 있음. 그걸 합쳐주기 \n",
        "    detokenized_doc.append(t)     # 각각의 결과를 빈 리스트에 저장하기 \n",
        "\n",
        "print(type(detokenized_doc)) # 리스트 형태이다. \n",
        "print(detokenized_doc[:5])    # 확인\n",
        "\n",
        "data2['text'] = detokenized_doc    # data2['text']에 다시 저장\n",
        "\n",
        "\n",
        "# 결과 확인\n",
        "data2.head()"
      ],
      "metadata": {
        "colab": {
          "base_uri": "https://localhost:8080/",
          "height": 293
        },
        "id": "cGw0ynCGgyq4",
        "outputId": "71912253-1ded-4926-89a7-4a99e1d8c6ec"
      },
      "execution_count": 5,
      "outputs": [
        {
          "output_type": "stream",
          "name": "stdout",
          "text": [
            "<class 'list'>\n",
            "['almost choke much much want say strange exclamations come lips pole gaze fixedly bundle note hand look odin evident perplexity', 'sister ask suppose', 'engage one day walk peruse jane last letter dwell passages prove jane write spirit instead surprise odin saw look odin meet put away letter immediately force smile say', 'captain porch keep carefully way treacherous shoot intend turn speak doctor watch lookout odin take north side please jim east gray west watch hand load muskets lively men careful', 'mercy gentlemen odin fling hand write anyway shame tear heart asunder seize opportunity finger wound halve god']\n"
          ]
        },
        {
          "output_type": "execute_result",
          "data": {
            "text/plain": [
              "                                                                                                                                                                                      text  \\\n",
              "index                                                                                                                                                                                        \n",
              "0                                                           almost choke much much want say strange exclamations come lips pole gaze fixedly bundle note hand look odin evident perplexity   \n",
              "1                                                                                                                                                                       sister ask suppose   \n",
              "2                  engage one day walk peruse jane last letter dwell passages prove jane write spirit instead surprise odin saw look odin meet put away letter immediately force smile say   \n",
              "3      captain porch keep carefully way treacherous shoot intend turn speak doctor watch lookout odin take north side please jim east gray west watch hand load muskets lively men careful   \n",
              "4                                                                           mercy gentlemen odin fling hand write anyway shame tear heart asunder seize opportunity finger wound halve god   \n",
              "\n",
              "       author  \n",
              "index          \n",
              "0           3  \n",
              "1           2  \n",
              "2           1  \n",
              "3           4  \n",
              "4           3  "
            ],
            "text/html": [
              "\n",
              "  <div id=\"df-9a28629e-6f80-4f85-b889-8fffb53bb930\">\n",
              "    <div class=\"colab-df-container\">\n",
              "      <div>\n",
              "<style scoped>\n",
              "    .dataframe tbody tr th:only-of-type {\n",
              "        vertical-align: middle;\n",
              "    }\n",
              "\n",
              "    .dataframe tbody tr th {\n",
              "        vertical-align: top;\n",
              "    }\n",
              "\n",
              "    .dataframe thead th {\n",
              "        text-align: right;\n",
              "    }\n",
              "</style>\n",
              "<table border=\"1\" class=\"dataframe\">\n",
              "  <thead>\n",
              "    <tr style=\"text-align: right;\">\n",
              "      <th></th>\n",
              "      <th>text</th>\n",
              "      <th>author</th>\n",
              "    </tr>\n",
              "    <tr>\n",
              "      <th>index</th>\n",
              "      <th></th>\n",
              "      <th></th>\n",
              "    </tr>\n",
              "  </thead>\n",
              "  <tbody>\n",
              "    <tr>\n",
              "      <th>0</th>\n",
              "      <td>almost choke much much want say strange exclamations come lips pole gaze fixedly bundle note hand look odin evident perplexity</td>\n",
              "      <td>3</td>\n",
              "    </tr>\n",
              "    <tr>\n",
              "      <th>1</th>\n",
              "      <td>sister ask suppose</td>\n",
              "      <td>2</td>\n",
              "    </tr>\n",
              "    <tr>\n",
              "      <th>2</th>\n",
              "      <td>engage one day walk peruse jane last letter dwell passages prove jane write spirit instead surprise odin saw look odin meet put away letter immediately force smile say</td>\n",
              "      <td>1</td>\n",
              "    </tr>\n",
              "    <tr>\n",
              "      <th>3</th>\n",
              "      <td>captain porch keep carefully way treacherous shoot intend turn speak doctor watch lookout odin take north side please jim east gray west watch hand load muskets lively men careful</td>\n",
              "      <td>4</td>\n",
              "    </tr>\n",
              "    <tr>\n",
              "      <th>4</th>\n",
              "      <td>mercy gentlemen odin fling hand write anyway shame tear heart asunder seize opportunity finger wound halve god</td>\n",
              "      <td>3</td>\n",
              "    </tr>\n",
              "  </tbody>\n",
              "</table>\n",
              "</div>\n",
              "      <button class=\"colab-df-convert\" onclick=\"convertToInteractive('df-9a28629e-6f80-4f85-b889-8fffb53bb930')\"\n",
              "              title=\"Convert this dataframe to an interactive table.\"\n",
              "              style=\"display:none;\">\n",
              "        \n",
              "  <svg xmlns=\"http://www.w3.org/2000/svg\" height=\"24px\"viewBox=\"0 0 24 24\"\n",
              "       width=\"24px\">\n",
              "    <path d=\"M0 0h24v24H0V0z\" fill=\"none\"/>\n",
              "    <path d=\"M18.56 5.44l.94 2.06.94-2.06 2.06-.94-2.06-.94-.94-2.06-.94 2.06-2.06.94zm-11 1L8.5 8.5l.94-2.06 2.06-.94-2.06-.94L8.5 2.5l-.94 2.06-2.06.94zm10 10l.94 2.06.94-2.06 2.06-.94-2.06-.94-.94-2.06-.94 2.06-2.06.94z\"/><path d=\"M17.41 7.96l-1.37-1.37c-.4-.4-.92-.59-1.43-.59-.52 0-1.04.2-1.43.59L10.3 9.45l-7.72 7.72c-.78.78-.78 2.05 0 2.83L4 21.41c.39.39.9.59 1.41.59.51 0 1.02-.2 1.41-.59l7.78-7.78 2.81-2.81c.8-.78.8-2.07 0-2.86zM5.41 20L4 18.59l7.72-7.72 1.47 1.35L5.41 20z\"/>\n",
              "  </svg>\n",
              "      </button>\n",
              "      \n",
              "  <style>\n",
              "    .colab-df-container {\n",
              "      display:flex;\n",
              "      flex-wrap:wrap;\n",
              "      gap: 12px;\n",
              "    }\n",
              "\n",
              "    .colab-df-convert {\n",
              "      background-color: #E8F0FE;\n",
              "      border: none;\n",
              "      border-radius: 50%;\n",
              "      cursor: pointer;\n",
              "      display: none;\n",
              "      fill: #1967D2;\n",
              "      height: 32px;\n",
              "      padding: 0 0 0 0;\n",
              "      width: 32px;\n",
              "    }\n",
              "\n",
              "    .colab-df-convert:hover {\n",
              "      background-color: #E2EBFA;\n",
              "      box-shadow: 0px 1px 2px rgba(60, 64, 67, 0.3), 0px 1px 3px 1px rgba(60, 64, 67, 0.15);\n",
              "      fill: #174EA6;\n",
              "    }\n",
              "\n",
              "    [theme=dark] .colab-df-convert {\n",
              "      background-color: #3B4455;\n",
              "      fill: #D2E3FC;\n",
              "    }\n",
              "\n",
              "    [theme=dark] .colab-df-convert:hover {\n",
              "      background-color: #434B5C;\n",
              "      box-shadow: 0px 1px 3px 1px rgba(0, 0, 0, 0.15);\n",
              "      filter: drop-shadow(0px 1px 2px rgba(0, 0, 0, 0.3));\n",
              "      fill: #FFFFFF;\n",
              "    }\n",
              "  </style>\n",
              "\n",
              "      <script>\n",
              "        const buttonEl =\n",
              "          document.querySelector('#df-9a28629e-6f80-4f85-b889-8fffb53bb930 button.colab-df-convert');\n",
              "        buttonEl.style.display =\n",
              "          google.colab.kernel.accessAllowed ? 'block' : 'none';\n",
              "\n",
              "        async function convertToInteractive(key) {\n",
              "          const element = document.querySelector('#df-9a28629e-6f80-4f85-b889-8fffb53bb930');\n",
              "          const dataTable =\n",
              "            await google.colab.kernel.invokeFunction('convertToInteractive',\n",
              "                                                     [key], {});\n",
              "          if (!dataTable) return;\n",
              "\n",
              "          const docLinkHtml = 'Like what you see? Visit the ' +\n",
              "            '<a target=\"_blank\" href=https://colab.research.google.com/notebooks/data_table.ipynb>data table notebook</a>'\n",
              "            + ' to learn more about interactive tables.';\n",
              "          element.innerHTML = '';\n",
              "          dataTable['output_type'] = 'display_data';\n",
              "          await google.colab.output.renderOutput(dataTable, element);\n",
              "          const docLink = document.createElement('div');\n",
              "          docLink.innerHTML = docLinkHtml;\n",
              "          element.appendChild(docLink);\n",
              "        }\n",
              "      </script>\n",
              "    </div>\n",
              "  </div>\n",
              "  "
            ]
          },
          "metadata": {},
          "execution_count": 5
        }
      ]
    },
    {
      "cell_type": "code",
      "source": [
        "# CountVectorizer \n",
        "\n",
        "#vectorizer = CountVectorizer()    # 객체 할당 \n",
        "#vectorizer.fit(detokenized_doc)   # fit 의 역할은?\n",
        "#vectorizer.vocabulary_    # vocabulary 의 역할은?\n",
        "\n",
        "# TfidfVectorizer \n",
        "\n",
        "#tfidf_vectorizer = TfidfVectorizer()\n",
        "#tfidf_vectorizer.fit(detokenized_doc) # 벡터라이저가 단어들을 학습\n",
        "#tfidf_vectorizer.vocabulary_ # 벡터라이저가 학습한 단어사전을 출력\n",
        "#sorted(tfidf_vectorizer.vocabulary_.items()) # 단어사전을 정렬"
      ],
      "metadata": {
        "id": "SRYRWEOVg1hg"
      },
      "execution_count": 7,
      "outputs": []
    },
    {
      "cell_type": "markdown",
      "source": [
        "- https://manywisdom-career.tistory.com/59 아래 내용은 이 사이트 참고 "
      ],
      "metadata": {
        "id": "G_TVZKzmrpvO"
      }
    },
    {
      "cell_type": "markdown",
      "source": [
        "# **임베딩 + 모델링**"
      ],
      "metadata": {
        "id": "CCdezi_ywcMl"
      }
    },
    {
      "cell_type": "markdown",
      "source": [
        "## **사전훈련 된 GloVe 를 이용한 임베딩**"
      ],
      "metadata": {
        "id": "hOurgxoTwcYR"
      }
    },
    {
      "cell_type": "markdown",
      "source": [
        "- 정수인코딩 후 패딩"
      ],
      "metadata": {
        "id": "8TJnHkLJ6HaC"
      }
    },
    {
      "cell_type": "code",
      "source": [
        "# 단어 집합 생성 + 정수인코딩 : using keras Tokenizer\n",
        "\n",
        "tokenizer = Tokenizer() \n",
        "tokenizer.fit_on_texts(detokenized_doc) \n",
        "vocab_size = len(tokenizer.word_index) + 1 # 📌 패딩을 고려하여 +1 (0값)\n",
        "print('단어 집합 : ', vocab_size)\n",
        "\n",
        "# 정수 인코딩 \n",
        "\n",
        "X_encoded = tokenizer.texts_to_sequences(detokenized_doc) \n",
        "max_len = max(len(l) for l in X_encoded)    # 가장 길이가 긴 문장의 길이 구하기(for padding)\n",
        "print('최대길이 :', max_len)"
      ],
      "metadata": {
        "colab": {
          "base_uri": "https://localhost:8080/"
        },
        "id": "BKHEwnaLrPWL",
        "outputId": "725c3e3a-491f-4c56-8a94-39afcde0f85b"
      },
      "execution_count": 6,
      "outputs": [
        {
          "output_type": "stream",
          "name": "stdout",
          "text": [
            "단어 집합 :  36529\n",
            "최대길이 : 203\n"
          ]
        }
      ]
    },
    {
      "cell_type": "code",
      "source": [
        "# 패딩 진행 \n",
        "\n",
        "X_pad = pad_sequences(X_encoded, maxlen=max_len, padding='post')\n",
        "print('패딩 결과 :')\n",
        "print(X_pad)"
      ],
      "metadata": {
        "colab": {
          "base_uri": "https://localhost:8080/"
        },
        "id": "Qf3P13Ylrlw2",
        "outputId": "ea62da01-f791-4c28-bfcc-aa4794bb3a82"
      },
      "execution_count": 7,
      "outputs": [
        {
          "output_type": "stream",
          "name": "stdout",
          "text": [
            "패딩 결과 :\n",
            "[[  142  2679    24 ...     0     0     0]\n",
            " [  209    27   154 ...     0     0     0]\n",
            " [  547     3    61 ...     0     0     0]\n",
            " ...\n",
            " [ 2201 15041   119 ...     0     0     0]\n",
            " [   72  1900   165 ...     0     0     0]\n",
            " [  211   612     2 ...     0     0     0]]\n"
          ]
        }
      ]
    },
    {
      "cell_type": "markdown",
      "source": [
        "- 사전훈련 모델 로드 후 모델 크기 확인하기 "
      ],
      "metadata": {
        "id": "19slEYX56KWC"
      }
    },
    {
      "cell_type": "code",
      "source": [
        "# GloVe\n",
        "\n",
        "from urllib.request import urlretrieve, urlopen\n",
        "import gzip\n",
        "import zipfile\n",
        "\n",
        "urlretrieve(\"http://nlp.stanford.edu/data/glove.6B.zip\", filename=\"glove.6B.zip\")\n",
        "zf = zipfile.ZipFile('glove.6B.zip')\n",
        "zf.extractall() \n",
        "zf.close()\n",
        "\n",
        "embedding_dict = dict()\n",
        "\n",
        "f = open('glove.6B.100d.txt', encoding=\"utf8\")\n",
        "\n",
        "for line in f:\n",
        "    word_vector = line.split()\n",
        "    word = word_vector[0]\n",
        "\n",
        "    # 100개의 값을 가지는 array로 변환\n",
        "    word_vector_arr = np.asarray(word_vector[1:], dtype='float32')\n",
        "    embedding_dict[word] = word_vector_arr\n",
        "f.close()\n",
        "\n",
        "print('%s개의 Embedding vector가 있습니다.' % len(embedding_dict))"
      ],
      "metadata": {
        "colab": {
          "base_uri": "https://localhost:8080/"
        },
        "id": "sFfeUVn8tazj",
        "outputId": "979e7a78-07d3-401c-8dcb-45aeabacdd06"
      },
      "execution_count": 8,
      "outputs": [
        {
          "output_type": "stream",
          "name": "stdout",
          "text": [
            "400000개의 Embedding vector가 있습니다.\n"
          ]
        }
      ]
    },
    {
      "cell_type": "code",
      "source": [
        "print('벡터의 차원 수 :',len(embedding_dict['odin']))"
      ],
      "metadata": {
        "colab": {
          "base_uri": "https://localhost:8080/"
        },
        "id": "h8mPVcpuwPvj",
        "outputId": "e0e91aa7-8dd7-414e-b431-9ed24c2011be"
      },
      "execution_count": 9,
      "outputs": [
        {
          "output_type": "stream",
          "name": "stdout",
          "text": [
            "벡터의 차원 수 : 100\n"
          ]
        }
      ]
    },
    {
      "cell_type": "markdown",
      "source": [
        "- 임베딩 행렬 만들고 크기 확인"
      ],
      "metadata": {
        "id": "4D0O_r1r6xaI"
      }
    },
    {
      "cell_type": "code",
      "source": [
        "# 임베딩 행렬 틀 짜기 \n",
        "\n",
        "embedding_matrix = np.zeros((vocab_size, 100))"
      ],
      "metadata": {
        "id": "HWAa_NMe2Fd2"
      },
      "execution_count": 10,
      "outputs": []
    },
    {
      "cell_type": "code",
      "source": [
        "for word, index in tokenizer.word_index.items():\n",
        "    # 단어와 맵핑되는 사전 훈련된 임베딩 벡터값\n",
        "    vector_value = embedding_dict.get(word)\n",
        "    if vector_value is not None:\n",
        "        embedding_matrix[index] = vector_value"
      ],
      "metadata": {
        "id": "5GF4uORM2Cab"
      },
      "execution_count": 11,
      "outputs": []
    },
    {
      "cell_type": "code",
      "source": [
        "print('임베딩 행렬의 크기(shape) :',np.shape(embedding_matrix))"
      ],
      "metadata": {
        "colab": {
          "base_uri": "https://localhost:8080/"
        },
        "id": "y_5l1_8r2LxM",
        "outputId": "03222a65-e720-4277-d249-a217f526f961"
      },
      "execution_count": 12,
      "outputs": [
        {
          "output_type": "stream",
          "name": "stdout",
          "text": [
            "임베딩 행렬의 크기(shape) : (36529, 100)\n"
          ]
        }
      ]
    },
    {
      "cell_type": "markdown",
      "source": [
        "## **모델링1**"
      ],
      "metadata": {
        "id": "V8RsGWh2xS9-"
      }
    },
    {
      "cell_type": "code",
      "source": [
        "from tensorflow.keras.models import Sequential\n",
        "from tensorflow.keras.layers import Dense, Embedding, Flatten\n",
        "\n",
        "output_dim = 100\n",
        "\n",
        "model_1 = Sequential()\n",
        "model_1.add(Input(shape=(max_len,), dtype='int32'))\n",
        "e = Embedding(vocab_size, output_dim, weights=[embedding_matrix], input_length=max_len, trainable=False)\n",
        "# trainable = False : 사전 훈련된 임베딩을 그대로 사용 (추가훈련 X)\n",
        "\n",
        "model_1.add(e)\n",
        "model_1.add(Dense(64, activation='relu'))\n",
        "model_1.add(Flatten())\n",
        "model_1.add(Dense(32, activation='relu'))\n",
        "model_1.add(Dense(1, activation='softmax'))\n",
        "\n",
        "\n",
        "model_1.compile(optimizer='adam', loss='categorical_crossentropy', metrics=['acc'])\n",
        "\n",
        "# model summary\n",
        "print(model_1.summary())\n"
      ],
      "metadata": {
        "colab": {
          "base_uri": "https://localhost:8080/"
        },
        "id": "NOrwM_8Zua4K",
        "outputId": "23576979-7293-4210-ad03-478b271646f3"
      },
      "execution_count": 13,
      "outputs": [
        {
          "output_type": "stream",
          "name": "stdout",
          "text": [
            "Model: \"sequential\"\n",
            "_________________________________________________________________\n",
            " Layer (type)                Output Shape              Param #   \n",
            "=================================================================\n",
            " embedding (Embedding)       (None, 203, 100)          3652900   \n",
            "                                                                 \n",
            " dense (Dense)               (None, 203, 64)           6464      \n",
            "                                                                 \n",
            " flatten (Flatten)           (None, 12992)             0         \n",
            "                                                                 \n",
            " dense_1 (Dense)             (None, 32)                415776    \n",
            "                                                                 \n",
            " dense_2 (Dense)             (None, 1)                 33        \n",
            "                                                                 \n",
            "=================================================================\n",
            "Total params: 4,075,173\n",
            "Trainable params: 422,273\n",
            "Non-trainable params: 3,652,900\n",
            "_________________________________________________________________\n",
            "None\n"
          ]
        }
      ]
    },
    {
      "cell_type": "code",
      "source": [
        "y_train = data2['author']"
      ],
      "metadata": {
        "id": "zHV8R3z7Tpjm"
      },
      "execution_count": 14,
      "outputs": []
    },
    {
      "cell_type": "code",
      "source": [
        "model_1.fit(X_pad, y_train, epochs = 4, verbose=2, validation_split = 0.2)"
      ],
      "metadata": {
        "colab": {
          "base_uri": "https://localhost:8080/"
        },
        "id": "Z8YsbI_Ftrwk",
        "outputId": "74e3f2cb-194f-4477-82e3-fcae07b27c44"
      },
      "execution_count": 16,
      "outputs": [
        {
          "output_type": "stream",
          "name": "stdout",
          "text": [
            "Epoch 1/4\n",
            "1372/1372 - 26s - loss: 0.0000e+00 - acc: 0.1310 - val_loss: 0.0000e+00 - val_acc: 0.1340 - 26s/epoch - 19ms/step\n",
            "Epoch 2/4\n",
            "1372/1372 - 24s - loss: 0.0000e+00 - acc: 0.1310 - val_loss: 0.0000e+00 - val_acc: 0.1340 - 24s/epoch - 18ms/step\n",
            "Epoch 3/4\n",
            "1372/1372 - 21s - loss: 0.0000e+00 - acc: 0.1310 - val_loss: 0.0000e+00 - val_acc: 0.1340 - 21s/epoch - 15ms/step\n",
            "Epoch 4/4\n",
            "1372/1372 - 19s - loss: 0.0000e+00 - acc: 0.1310 - val_loss: 0.0000e+00 - val_acc: 0.1340 - 19s/epoch - 14ms/step\n"
          ]
        },
        {
          "output_type": "execute_result",
          "data": {
            "text/plain": [
              "<keras.callbacks.History at 0x7fb87ae66130>"
            ]
          },
          "metadata": {},
          "execution_count": 16
        }
      ]
    },
    {
      "cell_type": "markdown",
      "source": [
        "- 각 에포크별로 정확도를 봤을 때 전혀 학습이 안되고 있음 \n",
        "- acc, val_acc 모두 낮음 \n",
        "- 폐기"
      ],
      "metadata": {
        "id": "mp-u9yeUUJ93"
      }
    },
    {
      "cell_type": "code",
      "source": [
        "model_1.evaluate(X_pad, data2['author'])\n"
      ],
      "metadata": {
        "colab": {
          "base_uri": "https://localhost:8080/"
        },
        "id": "a1jDbCtYuPOy",
        "outputId": "faf25818-7da8-4260-8b2d-ff0826f44315"
      },
      "execution_count": 17,
      "outputs": [
        {
          "output_type": "stream",
          "name": "stdout",
          "text": [
            "1715/1715 [==============================] - 11s 6ms/step - loss: 0.0000e+00 - acc: 0.1316\n"
          ]
        },
        {
          "output_type": "execute_result",
          "data": {
            "text/plain": [
              "[0.0, 0.1315986067056656]"
            ]
          },
          "metadata": {},
          "execution_count": 17
        }
      ]
    },
    {
      "cell_type": "markdown",
      "source": [
        "- 모델 정확도 : 0.1316"
      ],
      "metadata": {
        "id": "Wis0ptMqV8eT"
      }
    },
    {
      "cell_type": "markdown",
      "source": [
        "## **모델링2**"
      ],
      "metadata": {
        "id": "ROB6lAz8yYh2"
      }
    },
    {
      "cell_type": "code",
      "source": [
        "# 파라미터 설정 \n",
        "vocab_size = 36529\n",
        "embedding_dim = 100\n",
        "max_len = 203\n",
        "padding_type='post'\n",
        "\n",
        "# 모델 \n",
        "model_2 = Sequential()\n",
        "\n",
        "from tensorflow.keras.models import Model\n",
        "from tensorflow.keras.layers import Embedding, Dropout, Conv1D, GlobalMaxPooling1D, Dense, Input, Flatten, Concatenate\n",
        "\n",
        "kernel_sizes = [2, 3, 5]\n",
        "num_filters = 512\n",
        "dropout_ratio = 0.5\n",
        "\n",
        "model_input = Input(shape=(max_len,))\n",
        "output = Embedding(vocab_size, embedding_dim, weights=[embedding_matrix],\n",
        "                      input_length=max_len, trainable=False)(model_input)\n",
        "\n",
        "conv_blocks = []\n",
        "\n",
        "for size in kernel_sizes:\n",
        "    conv = Conv1D(filters=num_filters,\n",
        "                         kernel_size=size,\n",
        "                         padding=\"valid\",\n",
        "                         activation=\"relu\",\n",
        "                         strides=1)(output)\n",
        "    conv = GlobalMaxPooling1D()(conv)\n",
        "    conv_blocks.append(conv)\n",
        "\n",
        "output = Concatenate()(conv_blocks) if len(conv_blocks) > 1 else conv_blocks[0]\n",
        "output = Dropout(dropout_ratio)(output)\n",
        "model_output = Dense(5, activation='softmax')(output)\n",
        "model_2 = Model(model_input, model_output)\n",
        "\n",
        "model_2.compile(loss='sparse_categorical_crossentropy', optimizer='adam', metrics=['acc'])\n",
        "model_2.summary()"
      ],
      "metadata": {
        "colab": {
          "base_uri": "https://localhost:8080/"
        },
        "id": "EWWc_07UxVYL",
        "outputId": "0ecc8273-d50d-4915-f1a1-e37926123a9a"
      },
      "execution_count": 18,
      "outputs": [
        {
          "output_type": "stream",
          "name": "stdout",
          "text": [
            "Model: \"model\"\n",
            "__________________________________________________________________________________________________\n",
            " Layer (type)                   Output Shape         Param #     Connected to                     \n",
            "==================================================================================================\n",
            " input_2 (InputLayer)           [(None, 203)]        0           []                               \n",
            "                                                                                                  \n",
            " embedding_1 (Embedding)        (None, 203, 100)     3652900     ['input_2[0][0]']                \n",
            "                                                                                                  \n",
            " conv1d (Conv1D)                (None, 202, 512)     102912      ['embedding_1[0][0]']            \n",
            "                                                                                                  \n",
            " conv1d_1 (Conv1D)              (None, 201, 512)     154112      ['embedding_1[0][0]']            \n",
            "                                                                                                  \n",
            " conv1d_2 (Conv1D)              (None, 199, 512)     256512      ['embedding_1[0][0]']            \n",
            "                                                                                                  \n",
            " global_max_pooling1d (GlobalMa  (None, 512)         0           ['conv1d[0][0]']                 \n",
            " xPooling1D)                                                                                      \n",
            "                                                                                                  \n",
            " global_max_pooling1d_1 (Global  (None, 512)         0           ['conv1d_1[0][0]']               \n",
            " MaxPooling1D)                                                                                    \n",
            "                                                                                                  \n",
            " global_max_pooling1d_2 (Global  (None, 512)         0           ['conv1d_2[0][0]']               \n",
            " MaxPooling1D)                                                                                    \n",
            "                                                                                                  \n",
            " concatenate (Concatenate)      (None, 1536)         0           ['global_max_pooling1d[0][0]',   \n",
            "                                                                  'global_max_pooling1d_1[0][0]', \n",
            "                                                                  'global_max_pooling1d_2[0][0]'] \n",
            "                                                                                                  \n",
            " dropout (Dropout)              (None, 1536)         0           ['concatenate[0][0]']            \n",
            "                                                                                                  \n",
            " dense_3 (Dense)                (None, 5)            7685        ['dropout[0][0]']                \n",
            "                                                                                                  \n",
            "==================================================================================================\n",
            "Total params: 4,174,121\n",
            "Trainable params: 521,221\n",
            "Non-trainable params: 3,652,900\n",
            "__________________________________________________________________________________________________\n"
          ]
        }
      ]
    },
    {
      "cell_type": "code",
      "source": [
        "y_train = np.array(data2['author'])"
      ],
      "metadata": {
        "id": "QWK-yMWWp_TL"
      },
      "execution_count": 19,
      "outputs": []
    },
    {
      "cell_type": "code",
      "source": [
        "history = model_2.fit(X_pad, y_train,\n",
        "          batch_size=64,\n",
        "          epochs=10,\n",
        "          validation_split = 0.2)"
      ],
      "metadata": {
        "colab": {
          "base_uri": "https://localhost:8080/"
        },
        "id": "UvvIUb2bmSXx",
        "outputId": "21d97e6c-088f-43c3-bd2e-c38fe9a0332a"
      },
      "execution_count": null,
      "outputs": [
        {
          "output_type": "stream",
          "name": "stdout",
          "text": [
            "Epoch 1/10\n",
            "686/686 [==============================] - 460s 669ms/step - loss: 1.2808 - acc: 0.4748 - val_loss: 1.1027 - val_acc: 0.5597\n",
            "Epoch 2/10\n",
            "686/686 [==============================] - 458s 667ms/step - loss: 1.0582 - acc: 0.5789 - val_loss: 1.0250 - val_acc: 0.5921\n",
            "Epoch 3/10\n",
            "468/686 [===================>..........] - ETA: 2:13 - loss: 0.9400 - acc: 0.6317"
          ]
        }
      ]
    },
    {
      "cell_type": "code",
      "source": [
        "epochs = range(1, len(history.history['acc']) + 1)\n",
        "plt.plot(epochs, history.history['acc'])\n",
        "plt.plot(epochs, history.history['val_acc'])\n",
        "plt.title('model accuracy')\n",
        "plt.ylabel('accuracy')\n",
        "plt.xlabel('epochs')\n",
        "plt.legend(['train', 'test'], loc='lower right')\n",
        "plt.show()\n",
        "\n",
        "epochs = range(1, len(history.history['loss']) + 1)\n",
        "plt.plot(epochs, history.history['loss'])\n",
        "plt.plot(epochs, history.history['val_loss'])\n",
        "plt.title('model loss')\n",
        "plt.ylabel('loss')\n",
        "plt.xlabel('epochs')\n",
        "plt.legend(['train', 'test'], loc='upper right')\n",
        "plt.show()"
      ],
      "metadata": {
        "colab": {
          "base_uri": "https://localhost:8080/",
          "height": 573
        },
        "id": "bJx6bEdpqQWp",
        "outputId": "0a46731d-eb2a-4d60-a6ff-7663854eda1c"
      },
      "execution_count": 49,
      "outputs": [
        {
          "output_type": "display_data",
          "data": {
            "text/plain": [
              "<Figure size 432x288 with 1 Axes>"
            ],
            "image/png": "[encoded data removed]"
          },
          "metadata": {
            "needs_background": "light"
          }
        },
        {
          "output_type": "display_data",
          "data": {
            "text/plain": [
              "<Figure size 432x288 with 1 Axes>"
            ],
            "image/png": "[encoded data removed]"
          },
          "metadata": {
            "needs_background": "light"
          }
        }
      ]
    },
    {
      "cell_type": "markdown",
      "source": [
        "## **모델링3**"
      ],
      "metadata": {
        "id": "Xu7nLE0-YYK1"
      }
    },
    {
      "cell_type": "code",
      "source": [
        "from tensorflow.keras.models import Sequential\n",
        "from tensorflow.keras.layers import Embedding, Dropout, Conv1D, GlobalMaxPooling1D, Dense\n",
        "from tensorflow.keras.callbacks import EarlyStopping, ModelCheckpoint\n",
        "from tensorflow.keras.models import load_model\n",
        "\n",
        "dropout_ratio = 0.3 # 드롭아웃 비율\n",
        "num_filters = 256 # 커널의 수\n",
        "kernel_size = 3 # 커널의 크기\n",
        "hidden_units = 128 # 뉴런의 수\n",
        "\n",
        "model_3 = Sequential()\n",
        "model_3.add(e)\n",
        "model_3.add(Dropout(dropout_ratio))\n",
        "model_3.add(Conv1D(num_filters, kernel_size, padding='valid', activation='relu'))\n",
        "model_3.add(GlobalMaxPooling1D())\n",
        "model_3.add(Dense(hidden_units, activation='relu'))\n",
        "model_3.add(Dropout(dropout_ratio))\n",
        "model_3.add(Dense(1, activation='softmax'))\n",
        "\n",
        "es = EarlyStopping(monitor='val_loss', mode='min', verbose=1, patience=3)\n",
        "mc = ModelCheckpoint('best_model.h5', monitor='val_acc', mode='max', verbose=1, save_best_only=True)\n",
        "\n",
        "model_3.compile(optimizer='adam', loss='sparse_categorical_crossentropy', metrics=['acc'])"
      ],
      "metadata": {
        "id": "6rK64Ar6uc1E"
      },
      "execution_count": 58,
      "outputs": []
    },
    {
      "cell_type": "code",
      "source": [
        "history = model_3.fit(X_pad, y_train, epochs=20, validation_split=0.2, callbacks=[es, mc])"
      ],
      "metadata": {
        "colab": {
          "base_uri": "https://localhost:8080/"
        },
        "id": "6MCe7_wdvAUb",
        "outputId": "720b1a08-8175-4b0d-86ce-aac3ae6b94f4"
      },
      "execution_count": 59,
      "outputs": [
        {
          "output_type": "stream",
          "name": "stdout",
          "text": [
            "Epoch 1/20\n",
            "1371/1372 [============================>.] - ETA: 0s - loss: nan - acc: 0.2396\n",
            "Epoch 1: val_acc improved from -inf to 0.24718, saving model to best_model.h5\n",
            "1372/1372 [==============================] - 7s 4ms/step - loss: nan - acc: 0.2396 - val_loss: nan - val_acc: 0.2472\n",
            "Epoch 2/20\n",
            "1367/1372 [============================>.] - ETA: 0s - loss: nan - acc: 0.2395\n",
            "Epoch 2: val_acc did not improve from 0.24718\n",
            "1372/1372 [==============================] - 6s 5ms/step - loss: nan - acc: 0.2397 - val_loss: nan - val_acc: 0.2472\n",
            "Epoch 3/20\n",
            "1371/1372 [============================>.] - ETA: 0s - loss: nan - acc: 0.2397\n",
            "Epoch 3: val_acc did not improve from 0.24718\n",
            "1372/1372 [==============================] - 5s 4ms/step - loss: nan - acc: 0.2397 - val_loss: nan - val_acc: 0.2472\n",
            "Epoch 3: early stopping\n"
          ]
        }
      ]
    },
    {
      "cell_type": "markdown",
      "source": [
        "- 정확도가 개선 안되어 에포크 4에서 조기종료 \n",
        "- max acc : 0.24718"
      ],
      "metadata": {
        "id": "vdYmyzooYkZY"
      }
    },
    {
      "cell_type": "markdown",
      "source": [
        "## **사전훈련 된 Word2vec를 이용한 임베딩(ㅆ..)**"
      ],
      "metadata": {
        "id": "QPpFehfhvhGf"
      }
    },
    {
      "cell_type": "code",
      "source": [
        "# 구글의 사전 훈련된 Word2Vec 모델을 로드, word2vec_model에 저장\n",
        "import gensim\n",
        "urllib.request.urlretrieve(\"https://raw.githubusercontent.com/GaoleMeng/RNN-and-FFNN-textClassification/master/ted_en-20160408.xml\", filename=\"ted_en-20160408.xml\")"
      ],
      "metadata": {
        "colab": {
          "base_uri": "https://localhost:8080/"
        },
        "id": "RSXHAq6EwnyW",
        "outputId": "924c6d30-30fb-46fd-8714-d07f87712813"
      },
      "execution_count": 5,
      "outputs": [
        {
          "output_type": "execute_result",
          "data": {
            "text/plain": [
              "('ted_en-20160408.xml', <http.client.HTTPMessage at 0x7f6571127be0>)"
            ]
          },
          "metadata": {},
          "execution_count": 5
        }
      ]
    },
    {
      "cell_type": "markdown",
      "source": [
        "- 자꾸 압축파일 안열림 ㅠ"
      ],
      "metadata": {
        "id": "4UZggZRa40sS"
      }
    },
    {
      "cell_type": "code",
      "source": [
        "word2vec_model = gensim.models.KeyedVectors.load_word2vec_format('GoogleNews-vectors-negative300.bin', binary=True)\n",
        "\n",
        "# 모델의 크기 확인\n",
        "print('모델의 크기(shape) :',word2vec_model.vectors.shape) "
      ],
      "metadata": {
        "colab": {
          "base_uri": "https://localhost:8080/",
          "height": 372
        },
        "id": "TDx_DrwExvAf",
        "outputId": "8ee39eee-056b-4a9f-e906-40c0df673fa3"
      },
      "execution_count": 6,
      "outputs": [
        {
          "output_type": "error",
          "ename": "FileNotFoundError",
          "evalue": "ignored",
          "traceback": [
            "\u001b[0;31m---------------------------------------------------------------------------\u001b[0m",
            "\u001b[0;31mFileNotFoundError\u001b[0m                         Traceback (most recent call last)",
            "\u001b[0;32m<ipython-input-6-bad4de96feba>\u001b[0m in \u001b[0;36m<module>\u001b[0;34m\u001b[0m\n\u001b[0;32m----> 1\u001b[0;31m \u001b[0mword2vec_model\u001b[0m \u001b[0;34m=\u001b[0m \u001b[0mgensim\u001b[0m\u001b[0;34m.\u001b[0m\u001b[0mmodels\u001b[0m\u001b[0;34m.\u001b[0m\u001b[0mKeyedVectors\u001b[0m\u001b[0;34m.\u001b[0m\u001b[0mload_word2vec_format\u001b[0m\u001b[0;34m(\u001b[0m\u001b[0;34m'GoogleNews-vectors-negative300.bin'\u001b[0m\u001b[0;34m,\u001b[0m \u001b[0mbinary\u001b[0m\u001b[0;34m=\u001b[0m\u001b[0;32mTrue\u001b[0m\u001b[0;34m)\u001b[0m\u001b[0;34m\u001b[0m\u001b[0;34m\u001b[0m\u001b[0m\n\u001b[0m\u001b[1;32m      2\u001b[0m \u001b[0;34m\u001b[0m\u001b[0m\n\u001b[1;32m      3\u001b[0m \u001b[0;31m# 모델의 크기 확인\u001b[0m\u001b[0;34m\u001b[0m\u001b[0;34m\u001b[0m\u001b[0;34m\u001b[0m\u001b[0m\n\u001b[1;32m      4\u001b[0m \u001b[0mprint\u001b[0m\u001b[0;34m(\u001b[0m\u001b[0;34m'모델의 크기(shape) :'\u001b[0m\u001b[0;34m,\u001b[0m\u001b[0mword2vec_model\u001b[0m\u001b[0;34m.\u001b[0m\u001b[0mvectors\u001b[0m\u001b[0;34m.\u001b[0m\u001b[0mshape\u001b[0m\u001b[0;34m)\u001b[0m\u001b[0;34m\u001b[0m\u001b[0;34m\u001b[0m\u001b[0m\n",
            "\u001b[0;32m/usr/local/lib/python3.8/dist-packages/gensim/models/keyedvectors.py\u001b[0m in \u001b[0;36mload_word2vec_format\u001b[0;34m(cls, fname, fvocab, binary, encoding, unicode_errors, limit, datatype)\u001b[0m\n\u001b[1;32m   1434\u001b[0m         \"\"\"\n\u001b[1;32m   1435\u001b[0m         \u001b[0;31m# from gensim.models.word2vec import load_word2vec_format\u001b[0m\u001b[0;34m\u001b[0m\u001b[0;34m\u001b[0m\u001b[0;34m\u001b[0m\u001b[0m\n\u001b[0;32m-> 1436\u001b[0;31m         return _load_word2vec_format(\n\u001b[0m\u001b[1;32m   1437\u001b[0m             \u001b[0mcls\u001b[0m\u001b[0;34m,\u001b[0m \u001b[0mfname\u001b[0m\u001b[0;34m,\u001b[0m \u001b[0mfvocab\u001b[0m\u001b[0;34m=\u001b[0m\u001b[0mfvocab\u001b[0m\u001b[0;34m,\u001b[0m \u001b[0mbinary\u001b[0m\u001b[0;34m=\u001b[0m\u001b[0mbinary\u001b[0m\u001b[0;34m,\u001b[0m \u001b[0mencoding\u001b[0m\u001b[0;34m=\u001b[0m\u001b[0mencoding\u001b[0m\u001b[0;34m,\u001b[0m \u001b[0municode_errors\u001b[0m\u001b[0;34m=\u001b[0m\u001b[0municode_errors\u001b[0m\u001b[0;34m,\u001b[0m\u001b[0;34m\u001b[0m\u001b[0;34m\u001b[0m\u001b[0m\n\u001b[1;32m   1438\u001b[0m             limit=limit, datatype=datatype)\n",
            "\u001b[0;32m/usr/local/lib/python3.8/dist-packages/gensim/models/utils_any2vec.py\u001b[0m in \u001b[0;36m_load_word2vec_format\u001b[0;34m(cls, fname, fvocab, binary, encoding, unicode_errors, limit, datatype)\u001b[0m\n\u001b[1;32m    169\u001b[0m \u001b[0;34m\u001b[0m\u001b[0m\n\u001b[1;32m    170\u001b[0m     \u001b[0mlogger\u001b[0m\u001b[0;34m.\u001b[0m\u001b[0minfo\u001b[0m\u001b[0;34m(\u001b[0m\u001b[0;34m\"loading projection weights from %s\"\u001b[0m\u001b[0;34m,\u001b[0m \u001b[0mfname\u001b[0m\u001b[0;34m)\u001b[0m\u001b[0;34m\u001b[0m\u001b[0;34m\u001b[0m\u001b[0m\n\u001b[0;32m--> 171\u001b[0;31m     \u001b[0;32mwith\u001b[0m \u001b[0mutils\u001b[0m\u001b[0;34m.\u001b[0m\u001b[0msmart_open\u001b[0m\u001b[0;34m(\u001b[0m\u001b[0mfname\u001b[0m\u001b[0;34m)\u001b[0m \u001b[0;32mas\u001b[0m \u001b[0mfin\u001b[0m\u001b[0;34m:\u001b[0m\u001b[0;34m\u001b[0m\u001b[0;34m\u001b[0m\u001b[0m\n\u001b[0m\u001b[1;32m    172\u001b[0m         \u001b[0mheader\u001b[0m \u001b[0;34m=\u001b[0m \u001b[0mutils\u001b[0m\u001b[0;34m.\u001b[0m\u001b[0mto_unicode\u001b[0m\u001b[0;34m(\u001b[0m\u001b[0mfin\u001b[0m\u001b[0;34m.\u001b[0m\u001b[0mreadline\u001b[0m\u001b[0;34m(\u001b[0m\u001b[0;34m)\u001b[0m\u001b[0;34m,\u001b[0m \u001b[0mencoding\u001b[0m\u001b[0;34m=\u001b[0m\u001b[0mencoding\u001b[0m\u001b[0;34m)\u001b[0m\u001b[0;34m\u001b[0m\u001b[0;34m\u001b[0m\u001b[0m\n\u001b[1;32m    173\u001b[0m         \u001b[0mvocab_size\u001b[0m\u001b[0;34m,\u001b[0m \u001b[0mvector_size\u001b[0m \u001b[0;34m=\u001b[0m \u001b[0;34m(\u001b[0m\u001b[0mint\u001b[0m\u001b[0;34m(\u001b[0m\u001b[0mx\u001b[0m\u001b[0;34m)\u001b[0m \u001b[0;32mfor\u001b[0m \u001b[0mx\u001b[0m \u001b[0;32min\u001b[0m \u001b[0mheader\u001b[0m\u001b[0;34m.\u001b[0m\u001b[0msplit\u001b[0m\u001b[0;34m(\u001b[0m\u001b[0;34m)\u001b[0m\u001b[0;34m)\u001b[0m  \u001b[0;31m# throws for invalid file format\u001b[0m\u001b[0;34m\u001b[0m\u001b[0;34m\u001b[0m\u001b[0m\n",
            "\u001b[0;32m/usr/local/lib/python3.8/dist-packages/smart_open/smart_open_lib.py\u001b[0m in \u001b[0;36msmart_open\u001b[0;34m(***failed resolving arguments***)\u001b[0m\n\u001b[1;32m    501\u001b[0m         \u001b[0mcompression\u001b[0m \u001b[0;34m=\u001b[0m \u001b[0mso_compression\u001b[0m\u001b[0;34m.\u001b[0m\u001b[0mINFER_FROM_EXTENSION\u001b[0m\u001b[0;34m\u001b[0m\u001b[0;34m\u001b[0m\u001b[0m\n\u001b[1;32m    502\u001b[0m     \u001b[0;32mdel\u001b[0m \u001b[0mkwargs\u001b[0m\u001b[0;34m,\u001b[0m \u001b[0murl\u001b[0m\u001b[0;34m,\u001b[0m \u001b[0mmessage\u001b[0m\u001b[0;34m,\u001b[0m \u001b[0mignore_extension\u001b[0m\u001b[0;34m\u001b[0m\u001b[0;34m\u001b[0m\u001b[0m\n\u001b[0;32m--> 503\u001b[0;31m     \u001b[0;32mreturn\u001b[0m \u001b[0mopen\u001b[0m\u001b[0;34m(\u001b[0m\u001b[0;34m**\u001b[0m\u001b[0mlocals\u001b[0m\u001b[0;34m(\u001b[0m\u001b[0;34m)\u001b[0m\u001b[0;34m)\u001b[0m\u001b[0;34m\u001b[0m\u001b[0;34m\u001b[0m\u001b[0m\n\u001b[0m\u001b[1;32m    504\u001b[0m \u001b[0;34m\u001b[0m\u001b[0m\n\u001b[1;32m    505\u001b[0m \u001b[0;34m\u001b[0m\u001b[0m\n",
            "\u001b[0;32m/usr/local/lib/python3.8/dist-packages/smart_open/smart_open_lib.py\u001b[0m in \u001b[0;36mopen\u001b[0;34m(uri, mode, buffering, encoding, errors, newline, closefd, opener, compression, transport_params)\u001b[0m\n\u001b[1;32m    175\u001b[0m         \u001b[0mtransport_params\u001b[0m \u001b[0;34m=\u001b[0m \u001b[0;34m{\u001b[0m\u001b[0;34m}\u001b[0m\u001b[0;34m\u001b[0m\u001b[0;34m\u001b[0m\u001b[0m\n\u001b[1;32m    176\u001b[0m \u001b[0;34m\u001b[0m\u001b[0m\n\u001b[0;32m--> 177\u001b[0;31m     fobj = _shortcut_open(\n\u001b[0m\u001b[1;32m    178\u001b[0m         \u001b[0muri\u001b[0m\u001b[0;34m,\u001b[0m\u001b[0;34m\u001b[0m\u001b[0;34m\u001b[0m\u001b[0m\n\u001b[1;32m    179\u001b[0m         \u001b[0mmode\u001b[0m\u001b[0;34m,\u001b[0m\u001b[0;34m\u001b[0m\u001b[0;34m\u001b[0m\u001b[0m\n",
            "\u001b[0;32m/usr/local/lib/python3.8/dist-packages/smart_open/smart_open_lib.py\u001b[0m in \u001b[0;36m_shortcut_open\u001b[0;34m(uri, mode, compression, buffering, encoding, errors, newline)\u001b[0m\n\u001b[1;32m    361\u001b[0m         \u001b[0mopen_kwargs\u001b[0m\u001b[0;34m[\u001b[0m\u001b[0;34m'errors'\u001b[0m\u001b[0;34m]\u001b[0m \u001b[0;34m=\u001b[0m \u001b[0merrors\u001b[0m\u001b[0;34m\u001b[0m\u001b[0;34m\u001b[0m\u001b[0m\n\u001b[1;32m    362\u001b[0m \u001b[0;34m\u001b[0m\u001b[0m\n\u001b[0;32m--> 363\u001b[0;31m     \u001b[0;32mreturn\u001b[0m \u001b[0m_builtin_open\u001b[0m\u001b[0;34m(\u001b[0m\u001b[0mlocal_path\u001b[0m\u001b[0;34m,\u001b[0m \u001b[0mmode\u001b[0m\u001b[0;34m,\u001b[0m \u001b[0mbuffering\u001b[0m\u001b[0;34m=\u001b[0m\u001b[0mbuffering\u001b[0m\u001b[0;34m,\u001b[0m \u001b[0;34m**\u001b[0m\u001b[0mopen_kwargs\u001b[0m\u001b[0;34m)\u001b[0m\u001b[0;34m\u001b[0m\u001b[0;34m\u001b[0m\u001b[0m\n\u001b[0m\u001b[1;32m    364\u001b[0m \u001b[0;34m\u001b[0m\u001b[0m\n\u001b[1;32m    365\u001b[0m \u001b[0;34m\u001b[0m\u001b[0m\n",
            "\u001b[0;31mFileNotFoundError\u001b[0m: [Errno 2] No such file or directory: 'GoogleNews-vectors-negative300.bin'"
          ]
        }
      ]
    },
    {
      "cell_type": "markdown",
      "source": [
        "- 포기...."
      ],
      "metadata": {
        "id": "cWwykVAL5MYt"
      }
    }
  ]
}