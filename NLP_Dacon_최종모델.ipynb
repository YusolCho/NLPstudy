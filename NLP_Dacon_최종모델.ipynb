{
  "nbformat": 4,
  "nbformat_minor": 0,
  "metadata": {
    "colab": {
      "provenance": [],
      "authorship_tag": "ABX9TyMSkODMOPPQtJyPJmqPFgQV",
      "include_colab_link": true
    },
    "kernelspec": {
      "name": "python3",
      "display_name": "Python 3"
    },
    "language_info": {
      "name": "python"
    },
    "accelerator": "GPU",
    "gpuClass": "standard"
  },
  "cells": [
    {
      "cell_type": "markdown",
      "metadata": {
        "id": "view-in-github",
        "colab_type": "text"
      },
      "source": [
        "<a href=\"https://colab.research.google.com/github/YusolCho/NLPstudy/blob/main/NLP_Dacon_%EC%B5%9C%EC%A2%85%EB%AA%A8%EB%8D%B8.ipynb\" target=\"_parent\"><img src=\"https://colab.research.google.com/assets/colab-badge.svg\" alt=\"Open In Colab\"/></a>"
      ]
    },
    {
      "cell_type": "markdown",
      "source": [
        "# **패키지, 데이터 로드**"
      ],
      "metadata": {
        "id": "hO5-6loAWcml"
      }
    },
    {
      "cell_type": "code",
      "source": [
        "#패키지 임포트 \n",
        "\n",
        "# base\n",
        "import pandas as pd\n",
        "import numpy as np\n",
        "import matplotlib.pyplot as plt\n",
        "import seaborn as sns\n",
        "\n",
        "import warnings\n",
        "warnings.filterwarnings('ignore')\n",
        "\n",
        "# regex\n",
        "import re\n",
        "\n",
        "# stopwords\n",
        "import nltk\n",
        "from nltk.corpus import stopwords\n",
        "nltk.download('stopwords')\n",
        "nltk.download('punkt')\n",
        "nltk.download('wordnet')\n",
        "nltk.download('omw-1.4')\n",
        "nltk.download('averaged_perceptron_tagger')\n",
        "\n",
        "# tokenizer\n",
        "from nltk.tokenize import word_tokenize\n",
        "from nltk.tokenize import WordPunctTokenizer\n",
        "from nltk.tokenize import TreebankWordTokenizer\n",
        "from keras.preprocessing.text import Tokenizer\n",
        "from tensorflow.keras.preprocessing.text import text_to_word_sequence\n",
        "\n",
        "# lemmatization\n",
        "from nltk.stem import WordNetLemmatizer\n",
        "from nltk.corpus import wordnet\n",
        "\n",
        "# Vectorizer\n",
        "import gensim\n",
        "import urllib.request #*********\n",
        "from gensim.models import Word2Vec\n",
        "from gensim.models import KeyedVectors\n",
        "from sklearn.feature_extraction.text import CountVectorizer, TfidfVectorizer\n",
        "\n",
        "#Padding \n",
        "from tensorflow.keras.preprocessing.sequence import pad_sequences\n",
        "\n",
        "# modeling\n",
        "from sklearn.linear_model import LogisticRegression\n",
        "from sklearn.model_selection import train_test_split, cross_val_score\n",
        "\n",
        "#DL\n",
        "from tensorflow.keras.models import Sequential\n",
        "from tensorflow.keras.layers import Dense, Embedding, Flatten, Input\n",
        "\n",
        "#scoring\n",
        "from sklearn.metrics import confusion_matrix, accuracy_score, precision_score, recall_score, f1_score, accuracy_score"
      ],
      "metadata": {
        "colab": {
          "base_uri": "https://localhost:8080/"
        },
        "outputId": "81c6af39-f288-4d1f-8ab6-7e03a5b36632",
        "id": "piPB8zfPWYHK"
      },
      "execution_count": 2,
      "outputs": [
        {
          "output_type": "stream",
          "name": "stderr",
          "text": [
            "[nltk_data] Downloading package stopwords to /root/nltk_data...\n",
            "[nltk_data]   Unzipping corpora/stopwords.zip.\n",
            "[nltk_data] Downloading package punkt to /root/nltk_data...\n",
            "[nltk_data]   Unzipping tokenizers/punkt.zip.\n",
            "[nltk_data] Downloading package wordnet to /root/nltk_data...\n",
            "[nltk_data] Downloading package omw-1.4 to /root/nltk_data...\n",
            "[nltk_data] Downloading package averaged_perceptron_tagger to\n",
            "[nltk_data]     /root/nltk_data...\n",
            "[nltk_data]   Unzipping taggers/averaged_perceptron_tagger.zip.\n"
          ]
        }
      ]
    },
    {
      "cell_type": "code",
      "source": [
        "#파일 불러오기 \n",
        "from google.colab import drive\n",
        "drive.mount('/content/drive')\n",
        "filename = '/content/drive/MyDrive/train.csv'\n",
        "train = pd.read_csv(filename,delimiter=',',index_col=0)# 첫번째 행을 index행으로\n",
        "\n",
        "filename2 = '/content/drive/MyDrive/test_x.csv'\n",
        "test = pd.read_csv(filename2,delimiter=',',index_col=0)# 첫번째 행을 index행으로"
      ],
      "metadata": {
        "colab": {
          "base_uri": "https://localhost:8080/"
        },
        "id": "Uq2tBJ-2WlzL",
        "outputId": "0e97f114-242a-493c-8489-b6dc5e4af24f"
      },
      "execution_count": 3,
      "outputs": [
        {
          "output_type": "stream",
          "name": "stdout",
          "text": [
            "Mounted at /content/drive\n"
          ]
        }
      ]
    },
    {
      "cell_type": "code",
      "source": [
        "# additional data cleaning\n",
        "# 이 함수를 test에도 적용하면 됨\n",
        "\n",
        "def clean_text(texts): \n",
        "  corpus = [] \n",
        "  for i in range(0, len(texts)): \n",
        "\n",
        "    review = re.sub(\"[^a-zA-Z -]\",\"\",texts[i]) #대괄호 내 문자들을 제외한 모든 문자 제거\n",
        "    review = review.lower() #소문자 변환\n",
        "    review = re.sub(r'\\s+', ' ', review) #extra space 제거\n",
        "    review = re.sub(r'\\s+', ' ', review) #spaces 제거\n",
        "    review = re.sub(r\"^\\s+\", '', review) #space from start 제거\n",
        "    review = re.sub(r'\\s+$', '', review) #space from the end 제거\n",
        "    review = re.sub(r'_', ' ', review) #space from the end 제거\n",
        "    review = re.sub(r'\"+', ' ', review) #spaces 제거   \n",
        "    review = re.sub('-{2,}', ' ', review) #-이 2번이상 반복되면 제거   \n",
        "\n",
        "    corpus.append(review) \n",
        "  \n",
        "  return corpus"
      ],
      "metadata": {
        "id": "sWF5gIjFWmO5"
      },
      "execution_count": 4,
      "outputs": []
    },
    {
      "cell_type": "code",
      "source": [
        "temp = clean_text(train['text'])\n",
        "train['clean_text'] = temp\n",
        "\n",
        "temp = clean_text(test['text'])\n",
        "test['clean_text'] = temp\n",
        "\n",
        "test.head() #깨끗함"
      ],
      "metadata": {
        "colab": {
          "base_uri": "https://localhost:8080/",
          "height": 238
        },
        "id": "ybooxlFZXOGM",
        "outputId": "ae67197e-7a88-4120-94c5-c6cb422c68f4"
      },
      "execution_count": 5,
      "outputs": [
        {
          "output_type": "execute_result",
          "data": {
            "text/plain": [
              "                                                    text  \\\n",
              "index                                                      \n",
              "0      “Not at all. I think she is one of the most ch...   \n",
              "1      \"No,\" replied he, with sudden consciousness, \"...   \n",
              "2      As the lady had stated her intention of scream...   \n",
              "3      “And then suddenly in the silence I heard a so...   \n",
              "4      His conviction remained unchanged. So far as I...   \n",
              "\n",
              "                                              clean_text  \n",
              "index                                                     \n",
              "0      not at all i think she is one of the most char...  \n",
              "1      no replied he with sudden consciousness not to...  \n",
              "2      as the lady had stated her intention of scream...  \n",
              "3      and then suddenly in the silence i heard a sou...  \n",
              "4      his conviction remained unchanged so far as i ...  "
            ],
            "text/html": [
              "\n",
              "  <div id=\"df-d11ba7de-17c8-40fc-9d1e-2feb89de509c\">\n",
              "    <div class=\"colab-df-container\">\n",
              "      <div>\n",
              "<style scoped>\n",
              "    .dataframe tbody tr th:only-of-type {\n",
              "        vertical-align: middle;\n",
              "    }\n",
              "\n",
              "    .dataframe tbody tr th {\n",
              "        vertical-align: top;\n",
              "    }\n",
              "\n",
              "    .dataframe thead th {\n",
              "        text-align: right;\n",
              "    }\n",
              "</style>\n",
              "<table border=\"1\" class=\"dataframe\">\n",
              "  <thead>\n",
              "    <tr style=\"text-align: right;\">\n",
              "      <th></th>\n",
              "      <th>text</th>\n",
              "      <th>clean_text</th>\n",
              "    </tr>\n",
              "    <tr>\n",
              "      <th>index</th>\n",
              "      <th></th>\n",
              "      <th></th>\n",
              "    </tr>\n",
              "  </thead>\n",
              "  <tbody>\n",
              "    <tr>\n",
              "      <th>0</th>\n",
              "      <td>“Not at all. I think she is one of the most ch...</td>\n",
              "      <td>not at all i think she is one of the most char...</td>\n",
              "    </tr>\n",
              "    <tr>\n",
              "      <th>1</th>\n",
              "      <td>\"No,\" replied he, with sudden consciousness, \"...</td>\n",
              "      <td>no replied he with sudden consciousness not to...</td>\n",
              "    </tr>\n",
              "    <tr>\n",
              "      <th>2</th>\n",
              "      <td>As the lady had stated her intention of scream...</td>\n",
              "      <td>as the lady had stated her intention of scream...</td>\n",
              "    </tr>\n",
              "    <tr>\n",
              "      <th>3</th>\n",
              "      <td>“And then suddenly in the silence I heard a so...</td>\n",
              "      <td>and then suddenly in the silence i heard a sou...</td>\n",
              "    </tr>\n",
              "    <tr>\n",
              "      <th>4</th>\n",
              "      <td>His conviction remained unchanged. So far as I...</td>\n",
              "      <td>his conviction remained unchanged so far as i ...</td>\n",
              "    </tr>\n",
              "  </tbody>\n",
              "</table>\n",
              "</div>\n",
              "      <button class=\"colab-df-convert\" onclick=\"convertToInteractive('df-d11ba7de-17c8-40fc-9d1e-2feb89de509c')\"\n",
              "              title=\"Convert this dataframe to an interactive table.\"\n",
              "              style=\"display:none;\">\n",
              "        \n",
              "  <svg xmlns=\"http://www.w3.org/2000/svg\" height=\"24px\"viewBox=\"0 0 24 24\"\n",
              "       width=\"24px\">\n",
              "    <path d=\"M0 0h24v24H0V0z\" fill=\"none\"/>\n",
              "    <path d=\"M18.56 5.44l.94 2.06.94-2.06 2.06-.94-2.06-.94-.94-2.06-.94 2.06-2.06.94zm-11 1L8.5 8.5l.94-2.06 2.06-.94-2.06-.94L8.5 2.5l-.94 2.06-2.06.94zm10 10l.94 2.06.94-2.06 2.06-.94-2.06-.94-.94-2.06-.94 2.06-2.06.94z\"/><path d=\"M17.41 7.96l-1.37-1.37c-.4-.4-.92-.59-1.43-.59-.52 0-1.04.2-1.43.59L10.3 9.45l-7.72 7.72c-.78.78-.78 2.05 0 2.83L4 21.41c.39.39.9.59 1.41.59.51 0 1.02-.2 1.41-.59l7.78-7.78 2.81-2.81c.8-.78.8-2.07 0-2.86zM5.41 20L4 18.59l7.72-7.72 1.47 1.35L5.41 20z\"/>\n",
              "  </svg>\n",
              "      </button>\n",
              "      \n",
              "  <style>\n",
              "    .colab-df-container {\n",
              "      display:flex;\n",
              "      flex-wrap:wrap;\n",
              "      gap: 12px;\n",
              "    }\n",
              "\n",
              "    .colab-df-convert {\n",
              "      background-color: #E8F0FE;\n",
              "      border: none;\n",
              "      border-radius: 50%;\n",
              "      cursor: pointer;\n",
              "      display: none;\n",
              "      fill: #1967D2;\n",
              "      height: 32px;\n",
              "      padding: 0 0 0 0;\n",
              "      width: 32px;\n",
              "    }\n",
              "\n",
              "    .colab-df-convert:hover {\n",
              "      background-color: #E2EBFA;\n",
              "      box-shadow: 0px 1px 2px rgba(60, 64, 67, 0.3), 0px 1px 3px 1px rgba(60, 64, 67, 0.15);\n",
              "      fill: #174EA6;\n",
              "    }\n",
              "\n",
              "    [theme=dark] .colab-df-convert {\n",
              "      background-color: #3B4455;\n",
              "      fill: #D2E3FC;\n",
              "    }\n",
              "\n",
              "    [theme=dark] .colab-df-convert:hover {\n",
              "      background-color: #434B5C;\n",
              "      box-shadow: 0px 1px 3px 1px rgba(0, 0, 0, 0.15);\n",
              "      filter: drop-shadow(0px 1px 2px rgba(0, 0, 0, 0.3));\n",
              "      fill: #FFFFFF;\n",
              "    }\n",
              "  </style>\n",
              "\n",
              "      <script>\n",
              "        const buttonEl =\n",
              "          document.querySelector('#df-d11ba7de-17c8-40fc-9d1e-2feb89de509c button.colab-df-convert');\n",
              "        buttonEl.style.display =\n",
              "          google.colab.kernel.accessAllowed ? 'block' : 'none';\n",
              "\n",
              "        async function convertToInteractive(key) {\n",
              "          const element = document.querySelector('#df-d11ba7de-17c8-40fc-9d1e-2feb89de509c');\n",
              "          const dataTable =\n",
              "            await google.colab.kernel.invokeFunction('convertToInteractive',\n",
              "                                                     [key], {});\n",
              "          if (!dataTable) return;\n",
              "\n",
              "          const docLinkHtml = 'Like what you see? Visit the ' +\n",
              "            '<a target=\"_blank\" href=https://colab.research.google.com/notebooks/data_table.ipynb>data table notebook</a>'\n",
              "            + ' to learn more about interactive tables.';\n",
              "          element.innerHTML = '';\n",
              "          dataTable['output_type'] = 'display_data';\n",
              "          await google.colab.output.renderOutput(dataTable, element);\n",
              "          const docLink = document.createElement('div');\n",
              "          docLink.innerHTML = docLinkHtml;\n",
              "          element.appendChild(docLink);\n",
              "        }\n",
              "      </script>\n",
              "    </div>\n",
              "  </div>\n",
              "  "
            ]
          },
          "metadata": {},
          "execution_count": 5
        }
      ]
    },
    {
      "cell_type": "code",
      "source": [
        "# 개별 문장들을 작가마다 하나로 합치는 코드1\n",
        "corpus_by_author = []\n",
        "for num in range(5):\n",
        "    corpus_by_author.append([i for i in train[train['author']==num]['clean_text']])"
      ],
      "metadata": {
        "id": "PhbfoGXCXXiY"
      },
      "execution_count": 6,
      "outputs": []
    },
    {
      "cell_type": "code",
      "source": [
        "# 개별 문장들을 작가마다 하나로 합치는 코드2\n",
        "corpus_all = []\n",
        "tags=['NN','NNP']\n",
        "\n",
        "for i in range(5):\n",
        "    words = \" \".join(corpus_by_author[i])\n",
        "    words = words.split()\n",
        "    tagged = nltk.pos_tag(words)\n",
        "    allnoun = [word for word, pos in tagged if pos in tags]\n",
        "    words = \" \".join(allnoun)\n",
        "    corpus_all.append(words)"
      ],
      "metadata": {
        "id": "41GojC1NXZYX"
      },
      "execution_count": 7,
      "outputs": []
    },
    {
      "cell_type": "code",
      "source": [
        "train.head()"
      ],
      "metadata": {
        "colab": {
          "base_uri": "https://localhost:8080/",
          "height": 238
        },
        "id": "D6oGy7xPY04j",
        "outputId": "e3c7843a-098f-4c50-da46-43a30f1d4089"
      },
      "execution_count": 8,
      "outputs": [
        {
          "output_type": "execute_result",
          "data": {
            "text/plain": [
              "                                                    text  author  \\\n",
              "index                                                              \n",
              "0      He was almost choking. There was so much, so m...       3   \n",
              "1                 “Your sister asked for it, I suppose?”       2   \n",
              "2       She was engaged one day as she walked, in per...       1   \n",
              "3      The captain was in the porch, keeping himself ...       4   \n",
              "4      “Have mercy, gentlemen!” odin flung up his han...       3   \n",
              "\n",
              "                                              clean_text  \n",
              "index                                                     \n",
              "0      he was almost choking there was so much so muc...  \n",
              "1                     your sister asked for it i suppose  \n",
              "2      she was engaged one day as she walked in perus...  \n",
              "3      the captain was in the porch keeping himself c...  \n",
              "4      have mercy gentlemen odin flung up his hands d...  "
            ],
            "text/html": [
              "\n",
              "  <div id=\"df-48e4e70b-8d79-48f5-afd9-74032d89e0b9\">\n",
              "    <div class=\"colab-df-container\">\n",
              "      <div>\n",
              "<style scoped>\n",
              "    .dataframe tbody tr th:only-of-type {\n",
              "        vertical-align: middle;\n",
              "    }\n",
              "\n",
              "    .dataframe tbody tr th {\n",
              "        vertical-align: top;\n",
              "    }\n",
              "\n",
              "    .dataframe thead th {\n",
              "        text-align: right;\n",
              "    }\n",
              "</style>\n",
              "<table border=\"1\" class=\"dataframe\">\n",
              "  <thead>\n",
              "    <tr style=\"text-align: right;\">\n",
              "      <th></th>\n",
              "      <th>text</th>\n",
              "      <th>author</th>\n",
              "      <th>clean_text</th>\n",
              "    </tr>\n",
              "    <tr>\n",
              "      <th>index</th>\n",
              "      <th></th>\n",
              "      <th></th>\n",
              "      <th></th>\n",
              "    </tr>\n",
              "  </thead>\n",
              "  <tbody>\n",
              "    <tr>\n",
              "      <th>0</th>\n",
              "      <td>He was almost choking. There was so much, so m...</td>\n",
              "      <td>3</td>\n",
              "      <td>he was almost choking there was so much so muc...</td>\n",
              "    </tr>\n",
              "    <tr>\n",
              "      <th>1</th>\n",
              "      <td>“Your sister asked for it, I suppose?”</td>\n",
              "      <td>2</td>\n",
              "      <td>your sister asked for it i suppose</td>\n",
              "    </tr>\n",
              "    <tr>\n",
              "      <th>2</th>\n",
              "      <td>She was engaged one day as she walked, in per...</td>\n",
              "      <td>1</td>\n",
              "      <td>she was engaged one day as she walked in perus...</td>\n",
              "    </tr>\n",
              "    <tr>\n",
              "      <th>3</th>\n",
              "      <td>The captain was in the porch, keeping himself ...</td>\n",
              "      <td>4</td>\n",
              "      <td>the captain was in the porch keeping himself c...</td>\n",
              "    </tr>\n",
              "    <tr>\n",
              "      <th>4</th>\n",
              "      <td>“Have mercy, gentlemen!” odin flung up his han...</td>\n",
              "      <td>3</td>\n",
              "      <td>have mercy gentlemen odin flung up his hands d...</td>\n",
              "    </tr>\n",
              "  </tbody>\n",
              "</table>\n",
              "</div>\n",
              "      <button class=\"colab-df-convert\" onclick=\"convertToInteractive('df-48e4e70b-8d79-48f5-afd9-74032d89e0b9')\"\n",
              "              title=\"Convert this dataframe to an interactive table.\"\n",
              "              style=\"display:none;\">\n",
              "        \n",
              "  <svg xmlns=\"http://www.w3.org/2000/svg\" height=\"24px\"viewBox=\"0 0 24 24\"\n",
              "       width=\"24px\">\n",
              "    <path d=\"M0 0h24v24H0V0z\" fill=\"none\"/>\n",
              "    <path d=\"M18.56 5.44l.94 2.06.94-2.06 2.06-.94-2.06-.94-.94-2.06-.94 2.06-2.06.94zm-11 1L8.5 8.5l.94-2.06 2.06-.94-2.06-.94L8.5 2.5l-.94 2.06-2.06.94zm10 10l.94 2.06.94-2.06 2.06-.94-2.06-.94-.94-2.06-.94 2.06-2.06.94z\"/><path d=\"M17.41 7.96l-1.37-1.37c-.4-.4-.92-.59-1.43-.59-.52 0-1.04.2-1.43.59L10.3 9.45l-7.72 7.72c-.78.78-.78 2.05 0 2.83L4 21.41c.39.39.9.59 1.41.59.51 0 1.02-.2 1.41-.59l7.78-7.78 2.81-2.81c.8-.78.8-2.07 0-2.86zM5.41 20L4 18.59l7.72-7.72 1.47 1.35L5.41 20z\"/>\n",
              "  </svg>\n",
              "      </button>\n",
              "      \n",
              "  <style>\n",
              "    .colab-df-container {\n",
              "      display:flex;\n",
              "      flex-wrap:wrap;\n",
              "      gap: 12px;\n",
              "    }\n",
              "\n",
              "    .colab-df-convert {\n",
              "      background-color: #E8F0FE;\n",
              "      border: none;\n",
              "      border-radius: 50%;\n",
              "      cursor: pointer;\n",
              "      display: none;\n",
              "      fill: #1967D2;\n",
              "      height: 32px;\n",
              "      padding: 0 0 0 0;\n",
              "      width: 32px;\n",
              "    }\n",
              "\n",
              "    .colab-df-convert:hover {\n",
              "      background-color: #E2EBFA;\n",
              "      box-shadow: 0px 1px 2px rgba(60, 64, 67, 0.3), 0px 1px 3px 1px rgba(60, 64, 67, 0.15);\n",
              "      fill: #174EA6;\n",
              "    }\n",
              "\n",
              "    [theme=dark] .colab-df-convert {\n",
              "      background-color: #3B4455;\n",
              "      fill: #D2E3FC;\n",
              "    }\n",
              "\n",
              "    [theme=dark] .colab-df-convert:hover {\n",
              "      background-color: #434B5C;\n",
              "      box-shadow: 0px 1px 3px 1px rgba(0, 0, 0, 0.15);\n",
              "      filter: drop-shadow(0px 1px 2px rgba(0, 0, 0, 0.3));\n",
              "      fill: #FFFFFF;\n",
              "    }\n",
              "  </style>\n",
              "\n",
              "      <script>\n",
              "        const buttonEl =\n",
              "          document.querySelector('#df-48e4e70b-8d79-48f5-afd9-74032d89e0b9 button.colab-df-convert');\n",
              "        buttonEl.style.display =\n",
              "          google.colab.kernel.accessAllowed ? 'block' : 'none';\n",
              "\n",
              "        async function convertToInteractive(key) {\n",
              "          const element = document.querySelector('#df-48e4e70b-8d79-48f5-afd9-74032d89e0b9');\n",
              "          const dataTable =\n",
              "            await google.colab.kernel.invokeFunction('convertToInteractive',\n",
              "                                                     [key], {});\n",
              "          if (!dataTable) return;\n",
              "\n",
              "          const docLinkHtml = 'Like what you see? Visit the ' +\n",
              "            '<a target=\"_blank\" href=https://colab.research.google.com/notebooks/data_table.ipynb>data table notebook</a>'\n",
              "            + ' to learn more about interactive tables.';\n",
              "          element.innerHTML = '';\n",
              "          dataTable['output_type'] = 'display_data';\n",
              "          await google.colab.output.renderOutput(dataTable, element);\n",
              "          const docLink = document.createElement('div');\n",
              "          docLink.innerHTML = docLinkHtml;\n",
              "          element.appendChild(docLink);\n",
              "        }\n",
              "      </script>\n",
              "    </div>\n",
              "  </div>\n",
              "  "
            ]
          },
          "metadata": {},
          "execution_count": 8
        }
      ]
    },
    {
      "cell_type": "code",
      "source": [
        "train[['clean_text','author']].to_csv('/content/drive/MyDrive/clean_train.csv')\n",
        "test[['clean_text']].to_csv('/content/drive/MyDrive/clean_test.csv')"
      ],
      "metadata": {
        "id": "KqvEn8SlZ4j0"
      },
      "execution_count": 9,
      "outputs": []
    },
    {
      "cell_type": "code",
      "source": [
        "detokenized_doc = train['clean_text']"
      ],
      "metadata": {
        "id": "g6o545h-dF3Y"
      },
      "execution_count": 10,
      "outputs": []
    },
    {
      "cell_type": "markdown",
      "source": [
        "# **임베딩 + 모델링**"
      ],
      "metadata": {
        "id": "CCdezi_ywcMl"
      }
    },
    {
      "cell_type": "markdown",
      "source": [
        "## **사전훈련 된 GloVe 를 이용한 임베딩**"
      ],
      "metadata": {
        "id": "hOurgxoTwcYR"
      }
    },
    {
      "cell_type": "markdown",
      "source": [
        "- 정수인코딩 후 패딩"
      ],
      "metadata": {
        "id": "8TJnHkLJ6HaC"
      }
    },
    {
      "cell_type": "code",
      "source": [
        "# 단어 집합 생성 + 정수인코딩 : using keras Tokenizer\n",
        "\n",
        "tokenizer = Tokenizer() \n",
        "tokenizer.fit_on_texts(detokenized_doc) \n",
        "vocab_size = len(tokenizer.word_index) + 1 # 📌 패딩을 고려하여 +1 (0값)\n",
        "print('단어 집합 : ', vocab_size)\n",
        "\n",
        "# 정수 인코딩 \n",
        "\n",
        "X_encoded = tokenizer.texts_to_sequences(detokenized_doc) \n",
        "max_len = max(len(l) for l in X_encoded)    # 가장 길이가 긴 문장의 길이 구하기(for padding)\n",
        "print('최대길이 :', max_len)"
      ],
      "metadata": {
        "colab": {
          "base_uri": "https://localhost:8080/"
        },
        "id": "BKHEwnaLrPWL",
        "outputId": "da7db589-0b85-49bc-ee97-2fc5f70b96ee"
      },
      "execution_count": 11,
      "outputs": [
        {
          "output_type": "stream",
          "name": "stdout",
          "text": [
            "단어 집합 :  36922\n",
            "최대길이 : 473\n"
          ]
        }
      ]
    },
    {
      "cell_type": "code",
      "source": [
        "# 패딩 진행 \n",
        "\n",
        "X_pad = pad_sequences(X_encoded, maxlen=max_len, padding='post')\n",
        "print('패딩 결과 :')\n",
        "print(X_pad)"
      ],
      "metadata": {
        "colab": {
          "base_uri": "https://localhost:8080/"
        },
        "id": "Qf3P13Ylrlw2",
        "outputId": "e746a64b-5d44-4b40-81ea-bd68de4b9244"
      },
      "execution_count": 12,
      "outputs": [
        {
          "output_type": "stream",
          "name": "stdout",
          "text": [
            "패딩 결과 :\n",
            "[[   9   12  237 ...    0    0    0]\n",
            " [  49  316  145 ...    0    0    0]\n",
            " [  27   12  808 ...    0    0    0]\n",
            " ...\n",
            " [  49 2585   70 ...    0    0    0]\n",
            " [  66   10  429 ...    0    0    0]\n",
            " [  11  306   16 ...    0    0    0]]\n"
          ]
        }
      ]
    },
    {
      "cell_type": "markdown",
      "source": [
        "- 사전훈련 모델 로드 후 모델 크기 확인하기 "
      ],
      "metadata": {
        "id": "19slEYX56KWC"
      }
    },
    {
      "cell_type": "code",
      "source": [
        "# GloVe\n",
        "\n",
        "from urllib.request import urlretrieve, urlopen\n",
        "import gzip\n",
        "import zipfile\n",
        "\n",
        "urlretrieve(\"http://nlp.stanford.edu/data/glove.6B.zip\", filename=\"glove.6B.zip\")\n",
        "zf = zipfile.ZipFile('glove.6B.zip')\n",
        "zf.extractall() \n",
        "zf.close()\n",
        "\n",
        "embedding_dict = dict()\n",
        "\n",
        "f = open('glove.6B.100d.txt', encoding=\"utf8\")\n",
        "\n",
        "for line in f:\n",
        "    word_vector = line.split()\n",
        "    word = word_vector[0]\n",
        "\n",
        "    # 100개의 값을 가지는 array로 변환\n",
        "    word_vector_arr = np.asarray(word_vector[1:], dtype='float32')\n",
        "    embedding_dict[word] = word_vector_arr\n",
        "f.close()\n",
        "\n",
        "print('%s개의 Embedding vector가 있습니다.' % len(embedding_dict))"
      ],
      "metadata": {
        "colab": {
          "base_uri": "https://localhost:8080/"
        },
        "id": "sFfeUVn8tazj",
        "outputId": "2d1de475-7fd6-46bd-d795-e29f0d342d5f"
      },
      "execution_count": 13,
      "outputs": [
        {
          "output_type": "stream",
          "name": "stdout",
          "text": [
            "400000개의 Embedding vector가 있습니다.\n"
          ]
        }
      ]
    },
    {
      "cell_type": "code",
      "source": [
        "print('벡터의 차원 수 :',len(embedding_dict['odin']))"
      ],
      "metadata": {
        "colab": {
          "base_uri": "https://localhost:8080/"
        },
        "id": "h8mPVcpuwPvj",
        "outputId": "96269d3f-bc5e-4e43-f651-e818cd89493e"
      },
      "execution_count": 14,
      "outputs": [
        {
          "output_type": "stream",
          "name": "stdout",
          "text": [
            "벡터의 차원 수 : 100\n"
          ]
        }
      ]
    },
    {
      "cell_type": "markdown",
      "source": [
        "- 임베딩 행렬 만들고 크기 확인"
      ],
      "metadata": {
        "id": "4D0O_r1r6xaI"
      }
    },
    {
      "cell_type": "code",
      "source": [
        "# 임베딩 행렬 틀 짜기 \n",
        "\n",
        "embedding_matrix = np.zeros((vocab_size, 100))"
      ],
      "metadata": {
        "id": "HWAa_NMe2Fd2"
      },
      "execution_count": 15,
      "outputs": []
    },
    {
      "cell_type": "code",
      "source": [
        "for word, index in tokenizer.word_index.items():\n",
        "    # 단어와 맵핑되는 사전 훈련된 임베딩 벡터값\n",
        "    vector_value = embedding_dict.get(word)\n",
        "    if vector_value is not None:\n",
        "        embedding_matrix[index] = vector_value"
      ],
      "metadata": {
        "id": "5GF4uORM2Cab"
      },
      "execution_count": 16,
      "outputs": []
    },
    {
      "cell_type": "code",
      "source": [
        "print('임베딩 행렬의 크기(shape) :',np.shape(embedding_matrix))"
      ],
      "metadata": {
        "colab": {
          "base_uri": "https://localhost:8080/"
        },
        "id": "y_5l1_8r2LxM",
        "outputId": "1589539b-c944-40ae-d311-429da8d7e6ff"
      },
      "execution_count": 17,
      "outputs": [
        {
          "output_type": "stream",
          "name": "stdout",
          "text": [
            "임베딩 행렬의 크기(shape) : (36922, 100)\n"
          ]
        }
      ]
    },
    {
      "cell_type": "markdown",
      "source": [
        "## **모델링1**"
      ],
      "metadata": {
        "id": "V8RsGWh2xS9-"
      }
    },
    {
      "cell_type": "code",
      "source": [
        "from tensorflow.keras.models import Sequential\n",
        "from tensorflow.keras.layers import Dense, Embedding, Flatten\n",
        "\n",
        "output_dim = 100\n",
        "\n",
        "model_1 = Sequential()\n",
        "model_1.add(Input(shape=(max_len,), dtype='int32'))\n",
        "e = Embedding(vocab_size, output_dim, weights=[embedding_matrix], input_length=max_len, trainable=False)\n",
        "# trainable = False : 사전 훈련된 임베딩을 그대로 사용 (추가훈련 X)\n",
        "\n",
        "model_1.add(e)\n",
        "model_1.add(Dense(64, activation='relu'))\n",
        "model_1.add(Flatten())\n",
        "model_1.add(Dense(32, activation='relu'))\n",
        "model_1.add(Dense(5, activation='softmax'))\n",
        "\n",
        "\n",
        "model_1.compile(optimizer='adam', loss='sparse_categorical_crossentropy', metrics=['acc'])\n",
        "\n",
        "# model summary\n",
        "print(model_1.summary())\n"
      ],
      "metadata": {
        "colab": {
          "base_uri": "https://localhost:8080/"
        },
        "id": "NOrwM_8Zua4K",
        "outputId": "a21d7e50-bf46-44ac-ca06-c6c412b24bd4"
      },
      "execution_count": 18,
      "outputs": [
        {
          "output_type": "stream",
          "name": "stdout",
          "text": [
            "Model: \"sequential\"\n",
            "_________________________________________________________________\n",
            " Layer (type)                Output Shape              Param #   \n",
            "=================================================================\n",
            " embedding (Embedding)       (None, 473, 100)          3692200   \n",
            "                                                                 \n",
            " dense (Dense)               (None, 473, 64)           6464      \n",
            "                                                                 \n",
            " flatten (Flatten)           (None, 30272)             0         \n",
            "                                                                 \n",
            " dense_1 (Dense)             (None, 32)                968736    \n",
            "                                                                 \n",
            " dense_2 (Dense)             (None, 5)                 165       \n",
            "                                                                 \n",
            "=================================================================\n",
            "Total params: 4,667,565\n",
            "Trainable params: 975,365\n",
            "Non-trainable params: 3,692,200\n",
            "_________________________________________________________________\n",
            "None\n"
          ]
        }
      ]
    },
    {
      "cell_type": "code",
      "source": [
        "y_train = train['author']"
      ],
      "metadata": {
        "id": "zHV8R3z7Tpjm"
      },
      "execution_count": 19,
      "outputs": []
    },
    {
      "cell_type": "code",
      "source": [
        "model_1.fit(X_pad, y_train, epochs = 4, verbose=2, validation_split = 0.2)"
      ],
      "metadata": {
        "colab": {
          "base_uri": "https://localhost:8080/"
        },
        "id": "Z8YsbI_Ftrwk",
        "outputId": "5d1a6f25-4a53-4f3f-a51f-8fbb61e4cd0f"
      },
      "execution_count": 20,
      "outputs": [
        {
          "output_type": "stream",
          "name": "stdout",
          "text": [
            "Epoch 1/4\n",
            "1372/1372 - 8s - loss: 1.2957 - acc: 0.4593 - val_loss: 1.1183 - val_acc: 0.5519 - 8s/epoch - 6ms/step\n",
            "Epoch 2/4\n",
            "1372/1372 - 4s - loss: 0.9869 - acc: 0.6116 - val_loss: 1.0607 - val_acc: 0.5815 - 4s/epoch - 3ms/step\n",
            "Epoch 3/4\n",
            "1372/1372 - 4s - loss: 0.8353 - acc: 0.6768 - val_loss: 1.0836 - val_acc: 0.5836 - 4s/epoch - 3ms/step\n",
            "Epoch 4/4\n",
            "1372/1372 - 6s - loss: 0.7356 - acc: 0.7200 - val_loss: 1.1233 - val_acc: 0.5870 - 6s/epoch - 4ms/step\n"
          ]
        },
        {
          "output_type": "execute_result",
          "data": {
            "text/plain": [
              "<keras.callbacks.History at 0x7fbffdbca280>"
            ]
          },
          "metadata": {},
          "execution_count": 20
        }
      ]
    },
    {
      "cell_type": "code",
      "source": [
        "model_1.evaluate(X_pad, y_train)\n"
      ],
      "metadata": {
        "colab": {
          "base_uri": "https://localhost:8080/"
        },
        "id": "a1jDbCtYuPOy",
        "outputId": "6f01d1aa-4124-4288-f0cb-c7de4d74db9a"
      },
      "execution_count": 22,
      "outputs": [
        {
          "output_type": "stream",
          "name": "stdout",
          "text": [
            "1715/1715 [==============================] - 5s 3ms/step - loss: 0.7131 - acc: 0.7410\n"
          ]
        },
        {
          "output_type": "execute_result",
          "data": {
            "text/plain": [
              "[0.7130637764930725, 0.7409573793411255]"
            ]
          },
          "metadata": {},
          "execution_count": 22
        }
      ]
    },
    {
      "cell_type": "markdown",
      "source": [
        "- 모델 정확도 : 0.1316"
      ],
      "metadata": {
        "id": "Wis0ptMqV8eT"
      }
    },
    {
      "cell_type": "markdown",
      "source": [
        "## **모델링2**"
      ],
      "metadata": {
        "id": "ROB6lAz8yYh2"
      }
    },
    {
      "cell_type": "code",
      "source": [
        "# 파라미터 설정 \n",
        "vocab_size = 36922\n",
        "embedding_dim = 100\n",
        "max_len = 473\n",
        "padding_type='post'\n",
        "\n",
        "# 모델 \n",
        "model_2 = Sequential()\n",
        "\n",
        "from tensorflow.keras.models import Model\n",
        "from tensorflow.keras.layers import Embedding, Dropout, Conv1D, GlobalMaxPooling1D, Dense, Input, Flatten, Concatenate\n",
        "\n",
        "kernel_sizes = [2, 3, 5]\n",
        "num_filters = 512\n",
        "dropout_ratio = 0.5\n",
        "\n",
        "model_input = Input(shape=(max_len,))\n",
        "output = Embedding(vocab_size, embedding_dim, weights=[embedding_matrix],\n",
        "                      input_length=max_len, trainable=False)(model_input)\n",
        "\n",
        "conv_blocks = []\n",
        "\n",
        "for size in kernel_sizes:\n",
        "    conv = Conv1D(filters=num_filters,\n",
        "                         kernel_size=size,\n",
        "                         padding=\"valid\",\n",
        "                         activation=\"relu\",\n",
        "                         strides=1)(output)\n",
        "    conv = GlobalMaxPooling1D()(conv)\n",
        "    conv_blocks.append(conv)\n",
        "\n",
        "output = Concatenate()(conv_blocks) if len(conv_blocks) > 1 else conv_blocks[0]\n",
        "output = Dropout(dropout_ratio)(output)\n",
        "model_output = Dense(5, activation='softmax')(output)\n",
        "model_2 = Model(model_input, model_output)\n",
        "\n",
        "model_2.compile(loss='sparse_categorical_crossentropy', optimizer='adam', metrics=['acc'])\n",
        "model_2.summary()"
      ],
      "metadata": {
        "colab": {
          "base_uri": "https://localhost:8080/"
        },
        "id": "EWWc_07UxVYL",
        "outputId": "0677715d-49b9-4aa6-fa36-90090a29b29d"
      },
      "execution_count": 28,
      "outputs": [
        {
          "output_type": "stream",
          "name": "stdout",
          "text": [
            "Model: \"model_2\"\n",
            "__________________________________________________________________________________________________\n",
            " Layer (type)                   Output Shape         Param #     Connected to                     \n",
            "==================================================================================================\n",
            " input_5 (InputLayer)           [(None, 473)]        0           []                               \n",
            "                                                                                                  \n",
            " embedding_4 (Embedding)        (None, 473, 100)     3692200     ['input_5[0][0]']                \n",
            "                                                                                                  \n",
            " conv1d_6 (Conv1D)              (None, 472, 512)     102912      ['embedding_4[0][0]']            \n",
            "                                                                                                  \n",
            " conv1d_7 (Conv1D)              (None, 471, 512)     154112      ['embedding_4[0][0]']            \n",
            "                                                                                                  \n",
            " conv1d_8 (Conv1D)              (None, 469, 512)     256512      ['embedding_4[0][0]']            \n",
            "                                                                                                  \n",
            " global_max_pooling1d_6 (Global  (None, 512)         0           ['conv1d_6[0][0]']               \n",
            " MaxPooling1D)                                                                                    \n",
            "                                                                                                  \n",
            " global_max_pooling1d_7 (Global  (None, 512)         0           ['conv1d_7[0][0]']               \n",
            " MaxPooling1D)                                                                                    \n",
            "                                                                                                  \n",
            " global_max_pooling1d_8 (Global  (None, 512)         0           ['conv1d_8[0][0]']               \n",
            " MaxPooling1D)                                                                                    \n",
            "                                                                                                  \n",
            " concatenate_2 (Concatenate)    (None, 1536)         0           ['global_max_pooling1d_6[0][0]', \n",
            "                                                                  'global_max_pooling1d_7[0][0]', \n",
            "                                                                  'global_max_pooling1d_8[0][0]'] \n",
            "                                                                                                  \n",
            " dropout_2 (Dropout)            (None, 1536)         0           ['concatenate_2[0][0]']          \n",
            "                                                                                                  \n",
            " dense_5 (Dense)                (None, 5)            7685        ['dropout_2[0][0]']              \n",
            "                                                                                                  \n",
            "==================================================================================================\n",
            "Total params: 4,213,421\n",
            "Trainable params: 521,221\n",
            "Non-trainable params: 3,692,200\n",
            "__________________________________________________________________________________________________\n"
          ]
        }
      ]
    },
    {
      "cell_type": "code",
      "source": [
        "history = model_2.fit(X_pad, y_train,\n",
        "          batch_size=64,\n",
        "          epochs=15,\n",
        "          validation_split = 0.2)"
      ],
      "metadata": {
        "colab": {
          "base_uri": "https://localhost:8080/"
        },
        "id": "UvvIUb2bmSXx",
        "outputId": "e5a25bf9-c1bb-46ff-a43c-3a3d4a2921a0"
      },
      "execution_count": 29,
      "outputs": [
        {
          "output_type": "stream",
          "name": "stdout",
          "text": [
            "Epoch 1/15\n",
            "686/686 [==============================] - 29s 42ms/step - loss: 1.1955 - acc: 0.5192 - val_loss: 0.9702 - val_acc: 0.6253\n",
            "Epoch 2/15\n",
            "686/686 [==============================] - 28s 41ms/step - loss: 0.9426 - acc: 0.6323 - val_loss: 0.9021 - val_acc: 0.6555\n",
            "Epoch 3/15\n",
            "686/686 [==============================] - 28s 41ms/step - loss: 0.8381 - acc: 0.6756 - val_loss: 0.8271 - val_acc: 0.6883\n",
            "Epoch 4/15\n",
            "686/686 [==============================] - 28s 41ms/step - loss: 0.7635 - acc: 0.7084 - val_loss: 0.8042 - val_acc: 0.6948\n",
            "Epoch 5/15\n",
            "686/686 [==============================] - 28s 41ms/step - loss: 0.6994 - acc: 0.7327 - val_loss: 0.7837 - val_acc: 0.7074\n",
            "Epoch 6/15\n",
            "686/686 [==============================] - 28s 41ms/step - loss: 0.6421 - acc: 0.7568 - val_loss: 0.7942 - val_acc: 0.7044\n",
            "Epoch 7/15\n",
            "686/686 [==============================] - 28s 41ms/step - loss: 0.5955 - acc: 0.7761 - val_loss: 0.7948 - val_acc: 0.7085\n",
            "Epoch 8/15\n",
            "686/686 [==============================] - 28s 41ms/step - loss: 0.5623 - acc: 0.7855 - val_loss: 0.8027 - val_acc: 0.7083\n",
            "Epoch 9/15\n",
            "686/686 [==============================] - 28s 41ms/step - loss: 0.5312 - acc: 0.7972 - val_loss: 0.7857 - val_acc: 0.7168\n",
            "Epoch 10/15\n",
            "686/686 [==============================] - 28s 41ms/step - loss: 0.4974 - acc: 0.8127 - val_loss: 0.7889 - val_acc: 0.7223\n",
            "Epoch 11/15\n",
            "686/686 [==============================] - 28s 41ms/step - loss: 0.4823 - acc: 0.8189 - val_loss: 0.8277 - val_acc: 0.7147\n",
            "Epoch 12/15\n",
            "686/686 [==============================] - 28s 41ms/step - loss: 0.4560 - acc: 0.8299 - val_loss: 0.8027 - val_acc: 0.7210\n",
            "Epoch 13/15\n",
            "686/686 [==============================] - 28s 41ms/step - loss: 0.4396 - acc: 0.8355 - val_loss: 0.8142 - val_acc: 0.7223\n",
            "Epoch 14/15\n",
            "686/686 [==============================] - 28s 41ms/step - loss: 0.4139 - acc: 0.8460 - val_loss: 0.8340 - val_acc: 0.7207\n",
            "Epoch 15/15\n",
            "686/686 [==============================] - 28s 41ms/step - loss: 0.3968 - acc: 0.8535 - val_loss: 0.8586 - val_acc: 0.7177\n"
          ]
        }
      ]
    },
    {
      "cell_type": "code",
      "source": [
        "epochs = range(1, len(history.history['acc']) + 1)\n",
        "plt.plot(epochs, history.history['acc'])\n",
        "plt.plot(epochs, history.history['val_acc'])\n",
        "plt.title('model accuracy')\n",
        "plt.ylabel('accuracy')\n",
        "plt.xlabel('epochs')\n",
        "plt.legend(['train', 'test'], loc='lower right')\n",
        "plt.show()\n",
        "\n",
        "epochs = range(1, len(history.history['loss']) + 1)\n",
        "plt.plot(epochs, history.history['loss'])\n",
        "plt.plot(epochs, history.history['val_loss'])\n",
        "plt.title('model loss')\n",
        "plt.ylabel('loss')\n",
        "plt.xlabel('epochs')\n",
        "plt.legend(['train', 'test'], loc='upper right')\n",
        "plt.show()"
      ],
      "metadata": {
        "colab": {
          "base_uri": "https://localhost:8080/",
          "height": 573
        },
        "id": "bJx6bEdpqQWp",
        "outputId": "4b5201d7-5054-436b-f294-efc70af413de"
      },
      "execution_count": 30,
      "outputs": [
        {
          "output_type": "display_data",
          "data": {
            "text/plain": [
              "<Figure size 432x288 with 1 Axes>"
            ],
            "image/png": "[encoded data removed]"
          },
          "metadata": {
            "needs_background": "light"
          }
        },
        {
          "output_type": "display_data",
          "data": {
            "text/plain": [
              "<Figure size 432x288 with 1 Axes>"
            ],
            "image/png": "[encoded data removed]"
          },
          "metadata": {
            "needs_background": "light"
          }
        }
      ]
    }
  ]
}